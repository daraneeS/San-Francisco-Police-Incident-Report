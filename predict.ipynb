{
 "cells": [
  {
   "cell_type": "code",
   "execution_count": 3,
   "id": "c168a2ae-38be-44f2-a6a8-0541f4a71d56",
   "metadata": {},
   "outputs": [],
   "source": [
    "import pandas as pd\n",
    "import numpy as np\n",
    "import json\n",
    "import datetime\n",
    "import matplotlib \n",
    "import matplotlib.pyplot as plt\n",
    "%matplotlib inline\n",
    "matplotlib.rcParams[\"font.size\"]=14\n",
    "matplotlib.rcParams[\"figure.figsize\"]=(8,6)\n",
    "matplotlib.rcParams[\"figure.facecolor\"]=\"#00000000\"\n",
    "\n",
    "import seaborn as sns\n",
    "sns.set_style(\"darkgrid\")\n",
    "sns.set(font=\"Verdana\")\n",
    "import plotly.express as px"
   ]
  },
  {
   "cell_type": "code",
   "execution_count": 4,
   "id": "59429931-00a9-4d3c-9007-12b8246637a7",
   "metadata": {},
   "outputs": [],
   "source": [
    "df_incident_day = pd.read_csv(\"data_semiclean/df_incident_day.csv\", index_col=None)"
   ]
  },
  {
   "cell_type": "code",
   "execution_count": 5,
   "id": "9d5662c5-7c6f-4e52-b7f2-c718090e599d",
   "metadata": {},
   "outputs": [
    {
     "data": {
      "text/html": [
       "<div>\n",
       "<style scoped>\n",
       "    .dataframe tbody tr th:only-of-type {\n",
       "        vertical-align: middle;\n",
       "    }\n",
       "\n",
       "    .dataframe tbody tr th {\n",
       "        vertical-align: top;\n",
       "    }\n",
       "\n",
       "    .dataframe thead th {\n",
       "        text-align: right;\n",
       "    }\n",
       "</style>\n",
       "<table border=\"1\" class=\"dataframe\">\n",
       "  <thead>\n",
       "    <tr style=\"text-align: right;\">\n",
       "      <th></th>\n",
       "      <th>Incident Date</th>\n",
       "      <th>Total Cases</th>\n",
       "    </tr>\n",
       "  </thead>\n",
       "  <tbody>\n",
       "    <tr>\n",
       "      <th>0</th>\n",
       "      <td>2018-01-01</td>\n",
       "      <td>463</td>\n",
       "    </tr>\n",
       "    <tr>\n",
       "      <th>1</th>\n",
       "      <td>2018-01-02</td>\n",
       "      <td>327</td>\n",
       "    </tr>\n",
       "    <tr>\n",
       "      <th>2</th>\n",
       "      <td>2018-01-03</td>\n",
       "      <td>366</td>\n",
       "    </tr>\n",
       "    <tr>\n",
       "      <th>3</th>\n",
       "      <td>2018-01-04</td>\n",
       "      <td>385</td>\n",
       "    </tr>\n",
       "    <tr>\n",
       "      <th>4</th>\n",
       "      <td>2018-01-05</td>\n",
       "      <td>369</td>\n",
       "    </tr>\n",
       "    <tr>\n",
       "      <th>...</th>\n",
       "      <td>...</td>\n",
       "      <td>...</td>\n",
       "    </tr>\n",
       "    <tr>\n",
       "      <th>1776</th>\n",
       "      <td>2022-11-12</td>\n",
       "      <td>281</td>\n",
       "    </tr>\n",
       "    <tr>\n",
       "      <th>1777</th>\n",
       "      <td>2022-11-13</td>\n",
       "      <td>246</td>\n",
       "    </tr>\n",
       "    <tr>\n",
       "      <th>1778</th>\n",
       "      <td>2022-11-14</td>\n",
       "      <td>222</td>\n",
       "    </tr>\n",
       "    <tr>\n",
       "      <th>1779</th>\n",
       "      <td>2022-11-15</td>\n",
       "      <td>175</td>\n",
       "    </tr>\n",
       "    <tr>\n",
       "      <th>1780</th>\n",
       "      <td>2022-11-16</td>\n",
       "      <td>149</td>\n",
       "    </tr>\n",
       "  </tbody>\n",
       "</table>\n",
       "<p>1781 rows × 2 columns</p>\n",
       "</div>"
      ],
      "text/plain": [
       "     Incident Date  Total Cases\n",
       "0       2018-01-01          463\n",
       "1       2018-01-02          327\n",
       "2       2018-01-03          366\n",
       "3       2018-01-04          385\n",
       "4       2018-01-05          369\n",
       "...            ...          ...\n",
       "1776    2022-11-12          281\n",
       "1777    2022-11-13          246\n",
       "1778    2022-11-14          222\n",
       "1779    2022-11-15          175\n",
       "1780    2022-11-16          149\n",
       "\n",
       "[1781 rows x 2 columns]"
      ]
     },
     "execution_count": 5,
     "metadata": {},
     "output_type": "execute_result"
    }
   ],
   "source": [
    "df_incident_day"
   ]
  },
  {
   "cell_type": "code",
   "execution_count": 6,
   "id": "636ddb33-89fb-4640-a9e8-6f2f99017b2b",
   "metadata": {
    "tags": []
   },
   "outputs": [],
   "source": [
    "def date_split(df):\n",
    "    df[\"Incident Date\"] = pd.to_datetime(df[\"Incident Date\"])\n",
    "    df[\"dayofweek\"] = df[\"Incident Date\"].dt.dayofweek\n",
    "    return(df)"
   ]
  },
  {
   "cell_type": "code",
   "execution_count": 7,
   "id": "3f04b0a5-94a9-4350-9045-d4d46f40691c",
   "metadata": {},
   "outputs": [
    {
     "data": {
      "text/html": [
       "<div>\n",
       "<style scoped>\n",
       "    .dataframe tbody tr th:only-of-type {\n",
       "        vertical-align: middle;\n",
       "    }\n",
       "\n",
       "    .dataframe tbody tr th {\n",
       "        vertical-align: top;\n",
       "    }\n",
       "\n",
       "    .dataframe thead th {\n",
       "        text-align: right;\n",
       "    }\n",
       "</style>\n",
       "<table border=\"1\" class=\"dataframe\">\n",
       "  <thead>\n",
       "    <tr style=\"text-align: right;\">\n",
       "      <th></th>\n",
       "      <th>Incident Date</th>\n",
       "      <th>Total Cases</th>\n",
       "      <th>dayofweek</th>\n",
       "    </tr>\n",
       "  </thead>\n",
       "  <tbody>\n",
       "    <tr>\n",
       "      <th>0</th>\n",
       "      <td>2018-01-01</td>\n",
       "      <td>463</td>\n",
       "      <td>0</td>\n",
       "    </tr>\n",
       "    <tr>\n",
       "      <th>1</th>\n",
       "      <td>2018-01-02</td>\n",
       "      <td>327</td>\n",
       "      <td>1</td>\n",
       "    </tr>\n",
       "    <tr>\n",
       "      <th>2</th>\n",
       "      <td>2018-01-03</td>\n",
       "      <td>366</td>\n",
       "      <td>2</td>\n",
       "    </tr>\n",
       "    <tr>\n",
       "      <th>3</th>\n",
       "      <td>2018-01-04</td>\n",
       "      <td>385</td>\n",
       "      <td>3</td>\n",
       "    </tr>\n",
       "    <tr>\n",
       "      <th>4</th>\n",
       "      <td>2018-01-05</td>\n",
       "      <td>369</td>\n",
       "      <td>4</td>\n",
       "    </tr>\n",
       "    <tr>\n",
       "      <th>...</th>\n",
       "      <td>...</td>\n",
       "      <td>...</td>\n",
       "      <td>...</td>\n",
       "    </tr>\n",
       "    <tr>\n",
       "      <th>1776</th>\n",
       "      <td>2022-11-12</td>\n",
       "      <td>281</td>\n",
       "      <td>5</td>\n",
       "    </tr>\n",
       "    <tr>\n",
       "      <th>1777</th>\n",
       "      <td>2022-11-13</td>\n",
       "      <td>246</td>\n",
       "      <td>6</td>\n",
       "    </tr>\n",
       "    <tr>\n",
       "      <th>1778</th>\n",
       "      <td>2022-11-14</td>\n",
       "      <td>222</td>\n",
       "      <td>0</td>\n",
       "    </tr>\n",
       "    <tr>\n",
       "      <th>1779</th>\n",
       "      <td>2022-11-15</td>\n",
       "      <td>175</td>\n",
       "      <td>1</td>\n",
       "    </tr>\n",
       "    <tr>\n",
       "      <th>1780</th>\n",
       "      <td>2022-11-16</td>\n",
       "      <td>149</td>\n",
       "      <td>2</td>\n",
       "    </tr>\n",
       "  </tbody>\n",
       "</table>\n",
       "<p>1781 rows × 3 columns</p>\n",
       "</div>"
      ],
      "text/plain": [
       "     Incident Date  Total Cases  dayofweek\n",
       "0       2018-01-01          463          0\n",
       "1       2018-01-02          327          1\n",
       "2       2018-01-03          366          2\n",
       "3       2018-01-04          385          3\n",
       "4       2018-01-05          369          4\n",
       "...            ...          ...        ...\n",
       "1776    2022-11-12          281          5\n",
       "1777    2022-11-13          246          6\n",
       "1778    2022-11-14          222          0\n",
       "1779    2022-11-15          175          1\n",
       "1780    2022-11-16          149          2\n",
       "\n",
       "[1781 rows x 3 columns]"
      ]
     },
     "execution_count": 7,
     "metadata": {},
     "output_type": "execute_result"
    }
   ],
   "source": [
    "date_split(df_incident_day)"
   ]
  },
  {
   "cell_type": "code",
   "execution_count": 8,
   "id": "ebce1920-4d80-40c1-8897-7fea2619ebe6",
   "metadata": {},
   "outputs": [
    {
     "data": {
      "text/plain": [
       "array([0, 1, 2, 3, 4, 5, 6])"
      ]
     },
     "execution_count": 8,
     "metadata": {},
     "output_type": "execute_result"
    }
   ],
   "source": [
    "df_incident_day[\"dayofweek\"].unique()   # Monday = 0, Sunday = 6"
   ]
  },
  {
   "cell_type": "markdown",
   "id": "c844bc30-25d6-405f-984d-158946b868e9",
   "metadata": {},
   "source": [
    "## Yesterday Cases"
   ]
  },
  {
   "cell_type": "code",
   "execution_count": 9,
   "id": "9ba06af5-63c8-4186-8f56-1ceb660cae90",
   "metadata": {},
   "outputs": [],
   "source": [
    "def yesterday_case(df):\n",
    "    df[\"yesterday_cases\"] = df[\"Total Cases\"].shift(1)    \n",
    "    return(df)"
   ]
  },
  {
   "cell_type": "code",
   "execution_count": 10,
   "id": "c13fbddb-a7af-4d8b-b289-70d358bec886",
   "metadata": {},
   "outputs": [
    {
     "data": {
      "text/html": [
       "<div>\n",
       "<style scoped>\n",
       "    .dataframe tbody tr th:only-of-type {\n",
       "        vertical-align: middle;\n",
       "    }\n",
       "\n",
       "    .dataframe tbody tr th {\n",
       "        vertical-align: top;\n",
       "    }\n",
       "\n",
       "    .dataframe thead th {\n",
       "        text-align: right;\n",
       "    }\n",
       "</style>\n",
       "<table border=\"1\" class=\"dataframe\">\n",
       "  <thead>\n",
       "    <tr style=\"text-align: right;\">\n",
       "      <th></th>\n",
       "      <th>Incident Date</th>\n",
       "      <th>Total Cases</th>\n",
       "      <th>dayofweek</th>\n",
       "      <th>yesterday_cases</th>\n",
       "    </tr>\n",
       "  </thead>\n",
       "  <tbody>\n",
       "    <tr>\n",
       "      <th>0</th>\n",
       "      <td>2018-01-01</td>\n",
       "      <td>463</td>\n",
       "      <td>0</td>\n",
       "      <td>NaN</td>\n",
       "    </tr>\n",
       "    <tr>\n",
       "      <th>1</th>\n",
       "      <td>2018-01-02</td>\n",
       "      <td>327</td>\n",
       "      <td>1</td>\n",
       "      <td>463.0</td>\n",
       "    </tr>\n",
       "    <tr>\n",
       "      <th>2</th>\n",
       "      <td>2018-01-03</td>\n",
       "      <td>366</td>\n",
       "      <td>2</td>\n",
       "      <td>327.0</td>\n",
       "    </tr>\n",
       "    <tr>\n",
       "      <th>3</th>\n",
       "      <td>2018-01-04</td>\n",
       "      <td>385</td>\n",
       "      <td>3</td>\n",
       "      <td>366.0</td>\n",
       "    </tr>\n",
       "    <tr>\n",
       "      <th>4</th>\n",
       "      <td>2018-01-05</td>\n",
       "      <td>369</td>\n",
       "      <td>4</td>\n",
       "      <td>385.0</td>\n",
       "    </tr>\n",
       "    <tr>\n",
       "      <th>...</th>\n",
       "      <td>...</td>\n",
       "      <td>...</td>\n",
       "      <td>...</td>\n",
       "      <td>...</td>\n",
       "    </tr>\n",
       "    <tr>\n",
       "      <th>1776</th>\n",
       "      <td>2022-11-12</td>\n",
       "      <td>281</td>\n",
       "      <td>5</td>\n",
       "      <td>262.0</td>\n",
       "    </tr>\n",
       "    <tr>\n",
       "      <th>1777</th>\n",
       "      <td>2022-11-13</td>\n",
       "      <td>246</td>\n",
       "      <td>6</td>\n",
       "      <td>281.0</td>\n",
       "    </tr>\n",
       "    <tr>\n",
       "      <th>1778</th>\n",
       "      <td>2022-11-14</td>\n",
       "      <td>222</td>\n",
       "      <td>0</td>\n",
       "      <td>246.0</td>\n",
       "    </tr>\n",
       "    <tr>\n",
       "      <th>1779</th>\n",
       "      <td>2022-11-15</td>\n",
       "      <td>175</td>\n",
       "      <td>1</td>\n",
       "      <td>222.0</td>\n",
       "    </tr>\n",
       "    <tr>\n",
       "      <th>1780</th>\n",
       "      <td>2022-11-16</td>\n",
       "      <td>149</td>\n",
       "      <td>2</td>\n",
       "      <td>175.0</td>\n",
       "    </tr>\n",
       "  </tbody>\n",
       "</table>\n",
       "<p>1781 rows × 4 columns</p>\n",
       "</div>"
      ],
      "text/plain": [
       "     Incident Date  Total Cases  dayofweek  yesterday_cases\n",
       "0       2018-01-01          463          0              NaN\n",
       "1       2018-01-02          327          1            463.0\n",
       "2       2018-01-03          366          2            327.0\n",
       "3       2018-01-04          385          3            366.0\n",
       "4       2018-01-05          369          4            385.0\n",
       "...            ...          ...        ...              ...\n",
       "1776    2022-11-12          281          5            262.0\n",
       "1777    2022-11-13          246          6            281.0\n",
       "1778    2022-11-14          222          0            246.0\n",
       "1779    2022-11-15          175          1            222.0\n",
       "1780    2022-11-16          149          2            175.0\n",
       "\n",
       "[1781 rows x 4 columns]"
      ]
     },
     "execution_count": 10,
     "metadata": {},
     "output_type": "execute_result"
    }
   ],
   "source": [
    "yesterday_case(df_incident_day)"
   ]
  },
  {
   "cell_type": "markdown",
   "id": "c79da6d8-26b8-4c3c-91a5-20352a2e5f40",
   "metadata": {},
   "source": [
    "## Weekly Average"
   ]
  },
  {
   "cell_type": "code",
   "execution_count": 11,
   "id": "17337d01-ba35-41bb-b574-ad130c8d505a",
   "metadata": {
    "tags": []
   },
   "outputs": [],
   "source": [
    "def moving_avg_7(df):\n",
    "    df[\"cases_average_7D\"] = df[\"Total Cases\"].rolling(7).mean().round(2).shift(1)    \n",
    "    return(df)"
   ]
  },
  {
   "cell_type": "code",
   "execution_count": 12,
   "id": "fd2f9256-8541-435d-9c93-6c027e9fb7ab",
   "metadata": {},
   "outputs": [
    {
     "data": {
      "text/html": [
       "<div>\n",
       "<style scoped>\n",
       "    .dataframe tbody tr th:only-of-type {\n",
       "        vertical-align: middle;\n",
       "    }\n",
       "\n",
       "    .dataframe tbody tr th {\n",
       "        vertical-align: top;\n",
       "    }\n",
       "\n",
       "    .dataframe thead th {\n",
       "        text-align: right;\n",
       "    }\n",
       "</style>\n",
       "<table border=\"1\" class=\"dataframe\">\n",
       "  <thead>\n",
       "    <tr style=\"text-align: right;\">\n",
       "      <th></th>\n",
       "      <th>Incident Date</th>\n",
       "      <th>Total Cases</th>\n",
       "      <th>dayofweek</th>\n",
       "      <th>yesterday_cases</th>\n",
       "      <th>cases_average_7D</th>\n",
       "    </tr>\n",
       "  </thead>\n",
       "  <tbody>\n",
       "    <tr>\n",
       "      <th>0</th>\n",
       "      <td>2018-01-01</td>\n",
       "      <td>463</td>\n",
       "      <td>0</td>\n",
       "      <td>NaN</td>\n",
       "      <td>NaN</td>\n",
       "    </tr>\n",
       "    <tr>\n",
       "      <th>1</th>\n",
       "      <td>2018-01-02</td>\n",
       "      <td>327</td>\n",
       "      <td>1</td>\n",
       "      <td>463.0</td>\n",
       "      <td>NaN</td>\n",
       "    </tr>\n",
       "    <tr>\n",
       "      <th>2</th>\n",
       "      <td>2018-01-03</td>\n",
       "      <td>366</td>\n",
       "      <td>2</td>\n",
       "      <td>327.0</td>\n",
       "      <td>NaN</td>\n",
       "    </tr>\n",
       "    <tr>\n",
       "      <th>3</th>\n",
       "      <td>2018-01-04</td>\n",
       "      <td>385</td>\n",
       "      <td>3</td>\n",
       "      <td>366.0</td>\n",
       "      <td>NaN</td>\n",
       "    </tr>\n",
       "    <tr>\n",
       "      <th>4</th>\n",
       "      <td>2018-01-05</td>\n",
       "      <td>369</td>\n",
       "      <td>4</td>\n",
       "      <td>385.0</td>\n",
       "      <td>NaN</td>\n",
       "    </tr>\n",
       "    <tr>\n",
       "      <th>...</th>\n",
       "      <td>...</td>\n",
       "      <td>...</td>\n",
       "      <td>...</td>\n",
       "      <td>...</td>\n",
       "      <td>...</td>\n",
       "    </tr>\n",
       "    <tr>\n",
       "      <th>1776</th>\n",
       "      <td>2022-11-12</td>\n",
       "      <td>281</td>\n",
       "      <td>5</td>\n",
       "      <td>262.0</td>\n",
       "      <td>255.00</td>\n",
       "    </tr>\n",
       "    <tr>\n",
       "      <th>1777</th>\n",
       "      <td>2022-11-13</td>\n",
       "      <td>246</td>\n",
       "      <td>6</td>\n",
       "      <td>281.0</td>\n",
       "      <td>259.14</td>\n",
       "    </tr>\n",
       "    <tr>\n",
       "      <th>1778</th>\n",
       "      <td>2022-11-14</td>\n",
       "      <td>222</td>\n",
       "      <td>0</td>\n",
       "      <td>246.0</td>\n",
       "      <td>264.00</td>\n",
       "    </tr>\n",
       "    <tr>\n",
       "      <th>1779</th>\n",
       "      <td>2022-11-15</td>\n",
       "      <td>175</td>\n",
       "      <td>1</td>\n",
       "      <td>222.0</td>\n",
       "      <td>258.86</td>\n",
       "    </tr>\n",
       "    <tr>\n",
       "      <th>1780</th>\n",
       "      <td>2022-11-16</td>\n",
       "      <td>149</td>\n",
       "      <td>2</td>\n",
       "      <td>175.0</td>\n",
       "      <td>250.43</td>\n",
       "    </tr>\n",
       "  </tbody>\n",
       "</table>\n",
       "<p>1781 rows × 5 columns</p>\n",
       "</div>"
      ],
      "text/plain": [
       "     Incident Date  Total Cases  dayofweek  yesterday_cases  cases_average_7D\n",
       "0       2018-01-01          463          0              NaN               NaN\n",
       "1       2018-01-02          327          1            463.0               NaN\n",
       "2       2018-01-03          366          2            327.0               NaN\n",
       "3       2018-01-04          385          3            366.0               NaN\n",
       "4       2018-01-05          369          4            385.0               NaN\n",
       "...            ...          ...        ...              ...               ...\n",
       "1776    2022-11-12          281          5            262.0            255.00\n",
       "1777    2022-11-13          246          6            281.0            259.14\n",
       "1778    2022-11-14          222          0            246.0            264.00\n",
       "1779    2022-11-15          175          1            222.0            258.86\n",
       "1780    2022-11-16          149          2            175.0            250.43\n",
       "\n",
       "[1781 rows x 5 columns]"
      ]
     },
     "execution_count": 12,
     "metadata": {},
     "output_type": "execute_result"
    }
   ],
   "source": [
    "moving_avg_7(df_incident_day)"
   ]
  },
  {
   "cell_type": "markdown",
   "id": "5eead724-b375-4f0e-9c40-811c0195dc58",
   "metadata": {},
   "source": [
    "## Monthly Average"
   ]
  },
  {
   "cell_type": "code",
   "execution_count": 13,
   "id": "a952dd2b-00d3-4aea-ada6-51730555d8f7",
   "metadata": {},
   "outputs": [],
   "source": [
    "def moving_avg_30(df):\n",
    "    df[\"cases_average_30D\"] = df[\"Total Cases\"].rolling(30).mean().round(2).shift(1)    \n",
    "    return(df)"
   ]
  },
  {
   "cell_type": "code",
   "execution_count": 14,
   "id": "0358d86e-9dce-4c2a-9655-aa081db1713e",
   "metadata": {},
   "outputs": [
    {
     "data": {
      "text/html": [
       "<div>\n",
       "<style scoped>\n",
       "    .dataframe tbody tr th:only-of-type {\n",
       "        vertical-align: middle;\n",
       "    }\n",
       "\n",
       "    .dataframe tbody tr th {\n",
       "        vertical-align: top;\n",
       "    }\n",
       "\n",
       "    .dataframe thead th {\n",
       "        text-align: right;\n",
       "    }\n",
       "</style>\n",
       "<table border=\"1\" class=\"dataframe\">\n",
       "  <thead>\n",
       "    <tr style=\"text-align: right;\">\n",
       "      <th></th>\n",
       "      <th>Incident Date</th>\n",
       "      <th>Total Cases</th>\n",
       "      <th>dayofweek</th>\n",
       "      <th>yesterday_cases</th>\n",
       "      <th>cases_average_7D</th>\n",
       "      <th>cases_average_30D</th>\n",
       "    </tr>\n",
       "  </thead>\n",
       "  <tbody>\n",
       "    <tr>\n",
       "      <th>0</th>\n",
       "      <td>2018-01-01</td>\n",
       "      <td>463</td>\n",
       "      <td>0</td>\n",
       "      <td>NaN</td>\n",
       "      <td>NaN</td>\n",
       "      <td>NaN</td>\n",
       "    </tr>\n",
       "    <tr>\n",
       "      <th>1</th>\n",
       "      <td>2018-01-02</td>\n",
       "      <td>327</td>\n",
       "      <td>1</td>\n",
       "      <td>463.0</td>\n",
       "      <td>NaN</td>\n",
       "      <td>NaN</td>\n",
       "    </tr>\n",
       "    <tr>\n",
       "      <th>2</th>\n",
       "      <td>2018-01-03</td>\n",
       "      <td>366</td>\n",
       "      <td>2</td>\n",
       "      <td>327.0</td>\n",
       "      <td>NaN</td>\n",
       "      <td>NaN</td>\n",
       "    </tr>\n",
       "    <tr>\n",
       "      <th>3</th>\n",
       "      <td>2018-01-04</td>\n",
       "      <td>385</td>\n",
       "      <td>3</td>\n",
       "      <td>366.0</td>\n",
       "      <td>NaN</td>\n",
       "      <td>NaN</td>\n",
       "    </tr>\n",
       "    <tr>\n",
       "      <th>4</th>\n",
       "      <td>2018-01-05</td>\n",
       "      <td>369</td>\n",
       "      <td>4</td>\n",
       "      <td>385.0</td>\n",
       "      <td>NaN</td>\n",
       "      <td>NaN</td>\n",
       "    </tr>\n",
       "    <tr>\n",
       "      <th>...</th>\n",
       "      <td>...</td>\n",
       "      <td>...</td>\n",
       "      <td>...</td>\n",
       "      <td>...</td>\n",
       "      <td>...</td>\n",
       "      <td>...</td>\n",
       "    </tr>\n",
       "    <tr>\n",
       "      <th>1776</th>\n",
       "      <td>2022-11-12</td>\n",
       "      <td>281</td>\n",
       "      <td>5</td>\n",
       "      <td>262.0</td>\n",
       "      <td>255.00</td>\n",
       "      <td>286.50</td>\n",
       "    </tr>\n",
       "    <tr>\n",
       "      <th>1777</th>\n",
       "      <td>2022-11-13</td>\n",
       "      <td>246</td>\n",
       "      <td>6</td>\n",
       "      <td>281.0</td>\n",
       "      <td>259.14</td>\n",
       "      <td>285.70</td>\n",
       "    </tr>\n",
       "    <tr>\n",
       "      <th>1778</th>\n",
       "      <td>2022-11-14</td>\n",
       "      <td>222</td>\n",
       "      <td>0</td>\n",
       "      <td>246.0</td>\n",
       "      <td>264.00</td>\n",
       "      <td>282.70</td>\n",
       "    </tr>\n",
       "    <tr>\n",
       "      <th>1779</th>\n",
       "      <td>2022-11-15</td>\n",
       "      <td>175</td>\n",
       "      <td>1</td>\n",
       "      <td>222.0</td>\n",
       "      <td>258.86</td>\n",
       "      <td>279.63</td>\n",
       "    </tr>\n",
       "    <tr>\n",
       "      <th>1780</th>\n",
       "      <td>2022-11-16</td>\n",
       "      <td>149</td>\n",
       "      <td>2</td>\n",
       "      <td>175.0</td>\n",
       "      <td>250.43</td>\n",
       "      <td>275.83</td>\n",
       "    </tr>\n",
       "  </tbody>\n",
       "</table>\n",
       "<p>1781 rows × 6 columns</p>\n",
       "</div>"
      ],
      "text/plain": [
       "     Incident Date  Total Cases  dayofweek  yesterday_cases  cases_average_7D  \\\n",
       "0       2018-01-01          463          0              NaN               NaN   \n",
       "1       2018-01-02          327          1            463.0               NaN   \n",
       "2       2018-01-03          366          2            327.0               NaN   \n",
       "3       2018-01-04          385          3            366.0               NaN   \n",
       "4       2018-01-05          369          4            385.0               NaN   \n",
       "...            ...          ...        ...              ...               ...   \n",
       "1776    2022-11-12          281          5            262.0            255.00   \n",
       "1777    2022-11-13          246          6            281.0            259.14   \n",
       "1778    2022-11-14          222          0            246.0            264.00   \n",
       "1779    2022-11-15          175          1            222.0            258.86   \n",
       "1780    2022-11-16          149          2            175.0            250.43   \n",
       "\n",
       "      cases_average_30D  \n",
       "0                   NaN  \n",
       "1                   NaN  \n",
       "2                   NaN  \n",
       "3                   NaN  \n",
       "4                   NaN  \n",
       "...                 ...  \n",
       "1776             286.50  \n",
       "1777             285.70  \n",
       "1778             282.70  \n",
       "1779             279.63  \n",
       "1780             275.83  \n",
       "\n",
       "[1781 rows x 6 columns]"
      ]
     },
     "execution_count": 14,
     "metadata": {},
     "output_type": "execute_result"
    }
   ],
   "source": [
    "moving_avg_30(df_incident_day)"
   ]
  },
  {
   "cell_type": "markdown",
   "id": "bb7b7097-861d-4b23-b2ac-1128a22e2847",
   "metadata": {},
   "source": [
    "## Drop NA Rows"
   ]
  },
  {
   "cell_type": "code",
   "execution_count": 15,
   "id": "a490c418-5ac4-441a-b8ab-a887ccce6656",
   "metadata": {},
   "outputs": [
    {
     "data": {
      "text/plain": [
       "1781"
      ]
     },
     "execution_count": 15,
     "metadata": {},
     "output_type": "execute_result"
    }
   ],
   "source": [
    "len(df_incident_day)"
   ]
  },
  {
   "cell_type": "code",
   "execution_count": 16,
   "id": "ab1551cb-9de5-4bf9-8794-fd707354ee5e",
   "metadata": {},
   "outputs": [
    {
     "data": {
      "text/plain": [
       "1751"
      ]
     },
     "execution_count": 16,
     "metadata": {},
     "output_type": "execute_result"
    }
   ],
   "source": [
    "df_incident_day = df_incident_day.dropna()\n",
    "len(df_incident_day)"
   ]
  },
  {
   "cell_type": "code",
   "execution_count": 17,
   "id": "69f587e6-151e-4088-9ba2-af44025bcf26",
   "metadata": {},
   "outputs": [
    {
     "data": {
      "text/html": [
       "<div>\n",
       "<style scoped>\n",
       "    .dataframe tbody tr th:only-of-type {\n",
       "        vertical-align: middle;\n",
       "    }\n",
       "\n",
       "    .dataframe tbody tr th {\n",
       "        vertical-align: top;\n",
       "    }\n",
       "\n",
       "    .dataframe thead th {\n",
       "        text-align: right;\n",
       "    }\n",
       "</style>\n",
       "<table border=\"1\" class=\"dataframe\">\n",
       "  <thead>\n",
       "    <tr style=\"text-align: right;\">\n",
       "      <th></th>\n",
       "      <th>Incident Date</th>\n",
       "      <th>Total Cases</th>\n",
       "      <th>dayofweek</th>\n",
       "      <th>yesterday_cases</th>\n",
       "      <th>cases_average_7D</th>\n",
       "      <th>cases_average_30D</th>\n",
       "    </tr>\n",
       "  </thead>\n",
       "  <tbody>\n",
       "    <tr>\n",
       "      <th>30</th>\n",
       "      <td>2018-01-31</td>\n",
       "      <td>384</td>\n",
       "      <td>2</td>\n",
       "      <td>365.0</td>\n",
       "      <td>368.43</td>\n",
       "      <td>356.10</td>\n",
       "    </tr>\n",
       "    <tr>\n",
       "      <th>31</th>\n",
       "      <td>2018-02-01</td>\n",
       "      <td>387</td>\n",
       "      <td>3</td>\n",
       "      <td>384.0</td>\n",
       "      <td>373.71</td>\n",
       "      <td>353.47</td>\n",
       "    </tr>\n",
       "    <tr>\n",
       "      <th>32</th>\n",
       "      <td>2018-02-02</td>\n",
       "      <td>365</td>\n",
       "      <td>4</td>\n",
       "      <td>387.0</td>\n",
       "      <td>372.43</td>\n",
       "      <td>355.47</td>\n",
       "    </tr>\n",
       "    <tr>\n",
       "      <th>33</th>\n",
       "      <td>2018-02-03</td>\n",
       "      <td>340</td>\n",
       "      <td>5</td>\n",
       "      <td>365.0</td>\n",
       "      <td>367.43</td>\n",
       "      <td>355.43</td>\n",
       "    </tr>\n",
       "    <tr>\n",
       "      <th>34</th>\n",
       "      <td>2018-02-04</td>\n",
       "      <td>290</td>\n",
       "      <td>6</td>\n",
       "      <td>340.0</td>\n",
       "      <td>362.86</td>\n",
       "      <td>353.93</td>\n",
       "    </tr>\n",
       "    <tr>\n",
       "      <th>...</th>\n",
       "      <td>...</td>\n",
       "      <td>...</td>\n",
       "      <td>...</td>\n",
       "      <td>...</td>\n",
       "      <td>...</td>\n",
       "      <td>...</td>\n",
       "    </tr>\n",
       "    <tr>\n",
       "      <th>1776</th>\n",
       "      <td>2022-11-12</td>\n",
       "      <td>281</td>\n",
       "      <td>5</td>\n",
       "      <td>262.0</td>\n",
       "      <td>255.00</td>\n",
       "      <td>286.50</td>\n",
       "    </tr>\n",
       "    <tr>\n",
       "      <th>1777</th>\n",
       "      <td>2022-11-13</td>\n",
       "      <td>246</td>\n",
       "      <td>6</td>\n",
       "      <td>281.0</td>\n",
       "      <td>259.14</td>\n",
       "      <td>285.70</td>\n",
       "    </tr>\n",
       "    <tr>\n",
       "      <th>1778</th>\n",
       "      <td>2022-11-14</td>\n",
       "      <td>222</td>\n",
       "      <td>0</td>\n",
       "      <td>246.0</td>\n",
       "      <td>264.00</td>\n",
       "      <td>282.70</td>\n",
       "    </tr>\n",
       "    <tr>\n",
       "      <th>1779</th>\n",
       "      <td>2022-11-15</td>\n",
       "      <td>175</td>\n",
       "      <td>1</td>\n",
       "      <td>222.0</td>\n",
       "      <td>258.86</td>\n",
       "      <td>279.63</td>\n",
       "    </tr>\n",
       "    <tr>\n",
       "      <th>1780</th>\n",
       "      <td>2022-11-16</td>\n",
       "      <td>149</td>\n",
       "      <td>2</td>\n",
       "      <td>175.0</td>\n",
       "      <td>250.43</td>\n",
       "      <td>275.83</td>\n",
       "    </tr>\n",
       "  </tbody>\n",
       "</table>\n",
       "<p>1751 rows × 6 columns</p>\n",
       "</div>"
      ],
      "text/plain": [
       "     Incident Date  Total Cases  dayofweek  yesterday_cases  cases_average_7D  \\\n",
       "30      2018-01-31          384          2            365.0            368.43   \n",
       "31      2018-02-01          387          3            384.0            373.71   \n",
       "32      2018-02-02          365          4            387.0            372.43   \n",
       "33      2018-02-03          340          5            365.0            367.43   \n",
       "34      2018-02-04          290          6            340.0            362.86   \n",
       "...            ...          ...        ...              ...               ...   \n",
       "1776    2022-11-12          281          5            262.0            255.00   \n",
       "1777    2022-11-13          246          6            281.0            259.14   \n",
       "1778    2022-11-14          222          0            246.0            264.00   \n",
       "1779    2022-11-15          175          1            222.0            258.86   \n",
       "1780    2022-11-16          149          2            175.0            250.43   \n",
       "\n",
       "      cases_average_30D  \n",
       "30               356.10  \n",
       "31               353.47  \n",
       "32               355.47  \n",
       "33               355.43  \n",
       "34               353.93  \n",
       "...                 ...  \n",
       "1776             286.50  \n",
       "1777             285.70  \n",
       "1778             282.70  \n",
       "1779             279.63  \n",
       "1780             275.83  \n",
       "\n",
       "[1751 rows x 6 columns]"
      ]
     },
     "execution_count": 17,
     "metadata": {},
     "output_type": "execute_result"
    }
   ],
   "source": [
    "df_incident_day"
   ]
  },
  {
   "cell_type": "markdown",
   "id": "e92912fd-444b-45d3-9bf8-b81d789003c7",
   "metadata": {},
   "source": [
    "## Keep Columns"
   ]
  },
  {
   "cell_type": "markdown",
   "id": "a025615a-7364-4c26-9a52-bf074c24be52",
   "metadata": {},
   "source": [
    "#### Set Incident Date to be index"
   ]
  },
  {
   "cell_type": "code",
   "execution_count": 18,
   "id": "c70a2a27-4416-444a-88f9-9a7b017932af",
   "metadata": {},
   "outputs": [],
   "source": [
    "df_incident_day.set_index(\"Incident Date\", inplace=True)"
   ]
  },
  {
   "cell_type": "code",
   "execution_count": 19,
   "id": "543f5fbd-1aa9-447d-b5c5-b4d598563b9f",
   "metadata": {},
   "outputs": [
    {
     "data": {
      "text/html": [
       "<div>\n",
       "<style scoped>\n",
       "    .dataframe tbody tr th:only-of-type {\n",
       "        vertical-align: middle;\n",
       "    }\n",
       "\n",
       "    .dataframe tbody tr th {\n",
       "        vertical-align: top;\n",
       "    }\n",
       "\n",
       "    .dataframe thead th {\n",
       "        text-align: right;\n",
       "    }\n",
       "</style>\n",
       "<table border=\"1\" class=\"dataframe\">\n",
       "  <thead>\n",
       "    <tr style=\"text-align: right;\">\n",
       "      <th></th>\n",
       "      <th>Total Cases</th>\n",
       "      <th>dayofweek</th>\n",
       "      <th>yesterday_cases</th>\n",
       "      <th>cases_average_7D</th>\n",
       "      <th>cases_average_30D</th>\n",
       "    </tr>\n",
       "    <tr>\n",
       "      <th>Incident Date</th>\n",
       "      <th></th>\n",
       "      <th></th>\n",
       "      <th></th>\n",
       "      <th></th>\n",
       "      <th></th>\n",
       "    </tr>\n",
       "  </thead>\n",
       "  <tbody>\n",
       "    <tr>\n",
       "      <th>2018-01-31</th>\n",
       "      <td>384</td>\n",
       "      <td>2</td>\n",
       "      <td>365.0</td>\n",
       "      <td>368.43</td>\n",
       "      <td>356.10</td>\n",
       "    </tr>\n",
       "    <tr>\n",
       "      <th>2018-02-01</th>\n",
       "      <td>387</td>\n",
       "      <td>3</td>\n",
       "      <td>384.0</td>\n",
       "      <td>373.71</td>\n",
       "      <td>353.47</td>\n",
       "    </tr>\n",
       "    <tr>\n",
       "      <th>2018-02-02</th>\n",
       "      <td>365</td>\n",
       "      <td>4</td>\n",
       "      <td>387.0</td>\n",
       "      <td>372.43</td>\n",
       "      <td>355.47</td>\n",
       "    </tr>\n",
       "    <tr>\n",
       "      <th>2018-02-03</th>\n",
       "      <td>340</td>\n",
       "      <td>5</td>\n",
       "      <td>365.0</td>\n",
       "      <td>367.43</td>\n",
       "      <td>355.43</td>\n",
       "    </tr>\n",
       "    <tr>\n",
       "      <th>2018-02-04</th>\n",
       "      <td>290</td>\n",
       "      <td>6</td>\n",
       "      <td>340.0</td>\n",
       "      <td>362.86</td>\n",
       "      <td>353.93</td>\n",
       "    </tr>\n",
       "    <tr>\n",
       "      <th>...</th>\n",
       "      <td>...</td>\n",
       "      <td>...</td>\n",
       "      <td>...</td>\n",
       "      <td>...</td>\n",
       "      <td>...</td>\n",
       "    </tr>\n",
       "    <tr>\n",
       "      <th>2022-11-12</th>\n",
       "      <td>281</td>\n",
       "      <td>5</td>\n",
       "      <td>262.0</td>\n",
       "      <td>255.00</td>\n",
       "      <td>286.50</td>\n",
       "    </tr>\n",
       "    <tr>\n",
       "      <th>2022-11-13</th>\n",
       "      <td>246</td>\n",
       "      <td>6</td>\n",
       "      <td>281.0</td>\n",
       "      <td>259.14</td>\n",
       "      <td>285.70</td>\n",
       "    </tr>\n",
       "    <tr>\n",
       "      <th>2022-11-14</th>\n",
       "      <td>222</td>\n",
       "      <td>0</td>\n",
       "      <td>246.0</td>\n",
       "      <td>264.00</td>\n",
       "      <td>282.70</td>\n",
       "    </tr>\n",
       "    <tr>\n",
       "      <th>2022-11-15</th>\n",
       "      <td>175</td>\n",
       "      <td>1</td>\n",
       "      <td>222.0</td>\n",
       "      <td>258.86</td>\n",
       "      <td>279.63</td>\n",
       "    </tr>\n",
       "    <tr>\n",
       "      <th>2022-11-16</th>\n",
       "      <td>149</td>\n",
       "      <td>2</td>\n",
       "      <td>175.0</td>\n",
       "      <td>250.43</td>\n",
       "      <td>275.83</td>\n",
       "    </tr>\n",
       "  </tbody>\n",
       "</table>\n",
       "<p>1751 rows × 5 columns</p>\n",
       "</div>"
      ],
      "text/plain": [
       "               Total Cases  dayofweek  yesterday_cases  cases_average_7D  \\\n",
       "Incident Date                                                              \n",
       "2018-01-31             384          2            365.0            368.43   \n",
       "2018-02-01             387          3            384.0            373.71   \n",
       "2018-02-02             365          4            387.0            372.43   \n",
       "2018-02-03             340          5            365.0            367.43   \n",
       "2018-02-04             290          6            340.0            362.86   \n",
       "...                    ...        ...              ...               ...   \n",
       "2022-11-12             281          5            262.0            255.00   \n",
       "2022-11-13             246          6            281.0            259.14   \n",
       "2022-11-14             222          0            246.0            264.00   \n",
       "2022-11-15             175          1            222.0            258.86   \n",
       "2022-11-16             149          2            175.0            250.43   \n",
       "\n",
       "               cases_average_30D  \n",
       "Incident Date                     \n",
       "2018-01-31                356.10  \n",
       "2018-02-01                353.47  \n",
       "2018-02-02                355.47  \n",
       "2018-02-03                355.43  \n",
       "2018-02-04                353.93  \n",
       "...                          ...  \n",
       "2022-11-12                286.50  \n",
       "2022-11-13                285.70  \n",
       "2022-11-14                282.70  \n",
       "2022-11-15                279.63  \n",
       "2022-11-16                275.83  \n",
       "\n",
       "[1751 rows x 5 columns]"
      ]
     },
     "execution_count": 19,
     "metadata": {},
     "output_type": "execute_result"
    }
   ],
   "source": [
    "df_incident_day"
   ]
  },
  {
   "cell_type": "markdown",
   "id": "3e496c52-6814-4d48-9703-51e13ec0c3c8",
   "metadata": {},
   "source": [
    "## Train Test Split"
   ]
  },
  {
   "cell_type": "code",
   "execution_count": 20,
   "id": "4f228d93-714c-4ef3-9c40-119aeab96631",
   "metadata": {},
   "outputs": [],
   "source": [
    "from sklearn.preprocessing import StandardScaler\n",
    "from sklearn.model_selection import GridSearchCV\n",
    "from sklearn.metrics  import mean_squared_error, r2_score\n",
    "from sklearn.svm import SVR"
   ]
  },
  {
   "cell_type": "code",
   "execution_count": 21,
   "id": "5b9a2148-80bc-4f0d-a346-dea6e8094007",
   "metadata": {},
   "outputs": [],
   "source": [
    "filt1 = df_incident_day.index < \"2022-08-01\"\n",
    "filt2 = df_incident_day.index >= \"2022-08-01\""
   ]
  },
  {
   "cell_type": "code",
   "execution_count": 22,
   "id": "7eadcd58-e513-4c35-8662-7e170f616531",
   "metadata": {
    "tags": []
   },
   "outputs": [],
   "source": [
    "train_set = df_incident_day[filt1]\n",
    "test_set  = df_incident_day[filt2]"
   ]
  },
  {
   "cell_type": "code",
   "execution_count": 23,
   "id": "ff5d9877-5547-4ac0-ad81-3318eac05ba7",
   "metadata": {},
   "outputs": [
    {
     "data": {
      "text/html": [
       "<div>\n",
       "<style scoped>\n",
       "    .dataframe tbody tr th:only-of-type {\n",
       "        vertical-align: middle;\n",
       "    }\n",
       "\n",
       "    .dataframe tbody tr th {\n",
       "        vertical-align: top;\n",
       "    }\n",
       "\n",
       "    .dataframe thead th {\n",
       "        text-align: right;\n",
       "    }\n",
       "</style>\n",
       "<table border=\"1\" class=\"dataframe\">\n",
       "  <thead>\n",
       "    <tr style=\"text-align: right;\">\n",
       "      <th></th>\n",
       "      <th>Total Cases</th>\n",
       "      <th>dayofweek</th>\n",
       "      <th>yesterday_cases</th>\n",
       "      <th>cases_average_7D</th>\n",
       "      <th>cases_average_30D</th>\n",
       "    </tr>\n",
       "    <tr>\n",
       "      <th>Incident Date</th>\n",
       "      <th></th>\n",
       "      <th></th>\n",
       "      <th></th>\n",
       "      <th></th>\n",
       "      <th></th>\n",
       "    </tr>\n",
       "  </thead>\n",
       "  <tbody>\n",
       "    <tr>\n",
       "      <th>2018-01-31</th>\n",
       "      <td>384</td>\n",
       "      <td>2</td>\n",
       "      <td>365.0</td>\n",
       "      <td>368.43</td>\n",
       "      <td>356.10</td>\n",
       "    </tr>\n",
       "    <tr>\n",
       "      <th>2018-02-01</th>\n",
       "      <td>387</td>\n",
       "      <td>3</td>\n",
       "      <td>384.0</td>\n",
       "      <td>373.71</td>\n",
       "      <td>353.47</td>\n",
       "    </tr>\n",
       "    <tr>\n",
       "      <th>2018-02-02</th>\n",
       "      <td>365</td>\n",
       "      <td>4</td>\n",
       "      <td>387.0</td>\n",
       "      <td>372.43</td>\n",
       "      <td>355.47</td>\n",
       "    </tr>\n",
       "    <tr>\n",
       "      <th>2018-02-03</th>\n",
       "      <td>340</td>\n",
       "      <td>5</td>\n",
       "      <td>365.0</td>\n",
       "      <td>367.43</td>\n",
       "      <td>355.43</td>\n",
       "    </tr>\n",
       "    <tr>\n",
       "      <th>2018-02-04</th>\n",
       "      <td>290</td>\n",
       "      <td>6</td>\n",
       "      <td>340.0</td>\n",
       "      <td>362.86</td>\n",
       "      <td>353.93</td>\n",
       "    </tr>\n",
       "    <tr>\n",
       "      <th>...</th>\n",
       "      <td>...</td>\n",
       "      <td>...</td>\n",
       "      <td>...</td>\n",
       "      <td>...</td>\n",
       "      <td>...</td>\n",
       "    </tr>\n",
       "    <tr>\n",
       "      <th>2022-07-27</th>\n",
       "      <td>328</td>\n",
       "      <td>2</td>\n",
       "      <td>325.0</td>\n",
       "      <td>304.43</td>\n",
       "      <td>319.30</td>\n",
       "    </tr>\n",
       "    <tr>\n",
       "      <th>2022-07-28</th>\n",
       "      <td>334</td>\n",
       "      <td>3</td>\n",
       "      <td>328.0</td>\n",
       "      <td>298.14</td>\n",
       "      <td>318.97</td>\n",
       "    </tr>\n",
       "    <tr>\n",
       "      <th>2022-07-29</th>\n",
       "      <td>317</td>\n",
       "      <td>4</td>\n",
       "      <td>334.0</td>\n",
       "      <td>303.86</td>\n",
       "      <td>320.07</td>\n",
       "    </tr>\n",
       "    <tr>\n",
       "      <th>2022-07-30</th>\n",
       "      <td>294</td>\n",
       "      <td>5</td>\n",
       "      <td>317.0</td>\n",
       "      <td>304.71</td>\n",
       "      <td>320.17</td>\n",
       "    </tr>\n",
       "    <tr>\n",
       "      <th>2022-07-31</th>\n",
       "      <td>285</td>\n",
       "      <td>6</td>\n",
       "      <td>294.0</td>\n",
       "      <td>304.43</td>\n",
       "      <td>319.80</td>\n",
       "    </tr>\n",
       "  </tbody>\n",
       "</table>\n",
       "<p>1643 rows × 5 columns</p>\n",
       "</div>"
      ],
      "text/plain": [
       "               Total Cases  dayofweek  yesterday_cases  cases_average_7D  \\\n",
       "Incident Date                                                              \n",
       "2018-01-31             384          2            365.0            368.43   \n",
       "2018-02-01             387          3            384.0            373.71   \n",
       "2018-02-02             365          4            387.0            372.43   \n",
       "2018-02-03             340          5            365.0            367.43   \n",
       "2018-02-04             290          6            340.0            362.86   \n",
       "...                    ...        ...              ...               ...   \n",
       "2022-07-27             328          2            325.0            304.43   \n",
       "2022-07-28             334          3            328.0            298.14   \n",
       "2022-07-29             317          4            334.0            303.86   \n",
       "2022-07-30             294          5            317.0            304.71   \n",
       "2022-07-31             285          6            294.0            304.43   \n",
       "\n",
       "               cases_average_30D  \n",
       "Incident Date                     \n",
       "2018-01-31                356.10  \n",
       "2018-02-01                353.47  \n",
       "2018-02-02                355.47  \n",
       "2018-02-03                355.43  \n",
       "2018-02-04                353.93  \n",
       "...                          ...  \n",
       "2022-07-27                319.30  \n",
       "2022-07-28                318.97  \n",
       "2022-07-29                320.07  \n",
       "2022-07-30                320.17  \n",
       "2022-07-31                319.80  \n",
       "\n",
       "[1643 rows x 5 columns]"
      ]
     },
     "execution_count": 23,
     "metadata": {},
     "output_type": "execute_result"
    }
   ],
   "source": [
    "train_set"
   ]
  },
  {
   "cell_type": "code",
   "execution_count": 24,
   "id": "56ad05da-02ec-48a8-9acf-271498e1b074",
   "metadata": {
    "tags": []
   },
   "outputs": [
    {
     "data": {
      "text/html": [
       "<div>\n",
       "<style scoped>\n",
       "    .dataframe tbody tr th:only-of-type {\n",
       "        vertical-align: middle;\n",
       "    }\n",
       "\n",
       "    .dataframe tbody tr th {\n",
       "        vertical-align: top;\n",
       "    }\n",
       "\n",
       "    .dataframe thead th {\n",
       "        text-align: right;\n",
       "    }\n",
       "</style>\n",
       "<table border=\"1\" class=\"dataframe\">\n",
       "  <thead>\n",
       "    <tr style=\"text-align: right;\">\n",
       "      <th></th>\n",
       "      <th>Total Cases</th>\n",
       "      <th>dayofweek</th>\n",
       "      <th>yesterday_cases</th>\n",
       "      <th>cases_average_7D</th>\n",
       "      <th>cases_average_30D</th>\n",
       "    </tr>\n",
       "    <tr>\n",
       "      <th>Incident Date</th>\n",
       "      <th></th>\n",
       "      <th></th>\n",
       "      <th></th>\n",
       "      <th></th>\n",
       "      <th></th>\n",
       "    </tr>\n",
       "  </thead>\n",
       "  <tbody>\n",
       "    <tr>\n",
       "      <th>2022-08-01</th>\n",
       "      <td>315</td>\n",
       "      <td>0</td>\n",
       "      <td>285.0</td>\n",
       "      <td>309.00</td>\n",
       "      <td>316.77</td>\n",
       "    </tr>\n",
       "    <tr>\n",
       "      <th>2022-08-02</th>\n",
       "      <td>291</td>\n",
       "      <td>1</td>\n",
       "      <td>315.0</td>\n",
       "      <td>314.00</td>\n",
       "      <td>316.50</td>\n",
       "    </tr>\n",
       "    <tr>\n",
       "      <th>2022-08-03</th>\n",
       "      <td>319</td>\n",
       "      <td>2</td>\n",
       "      <td>291.0</td>\n",
       "      <td>309.14</td>\n",
       "      <td>316.23</td>\n",
       "    </tr>\n",
       "    <tr>\n",
       "      <th>2022-08-04</th>\n",
       "      <td>337</td>\n",
       "      <td>3</td>\n",
       "      <td>319.0</td>\n",
       "      <td>307.86</td>\n",
       "      <td>317.17</td>\n",
       "    </tr>\n",
       "    <tr>\n",
       "      <th>2022-08-05</th>\n",
       "      <td>346</td>\n",
       "      <td>4</td>\n",
       "      <td>337.0</td>\n",
       "      <td>308.29</td>\n",
       "      <td>317.67</td>\n",
       "    </tr>\n",
       "    <tr>\n",
       "      <th>...</th>\n",
       "      <td>...</td>\n",
       "      <td>...</td>\n",
       "      <td>...</td>\n",
       "      <td>...</td>\n",
       "      <td>...</td>\n",
       "    </tr>\n",
       "    <tr>\n",
       "      <th>2022-11-12</th>\n",
       "      <td>281</td>\n",
       "      <td>5</td>\n",
       "      <td>262.0</td>\n",
       "      <td>255.00</td>\n",
       "      <td>286.50</td>\n",
       "    </tr>\n",
       "    <tr>\n",
       "      <th>2022-11-13</th>\n",
       "      <td>246</td>\n",
       "      <td>6</td>\n",
       "      <td>281.0</td>\n",
       "      <td>259.14</td>\n",
       "      <td>285.70</td>\n",
       "    </tr>\n",
       "    <tr>\n",
       "      <th>2022-11-14</th>\n",
       "      <td>222</td>\n",
       "      <td>0</td>\n",
       "      <td>246.0</td>\n",
       "      <td>264.00</td>\n",
       "      <td>282.70</td>\n",
       "    </tr>\n",
       "    <tr>\n",
       "      <th>2022-11-15</th>\n",
       "      <td>175</td>\n",
       "      <td>1</td>\n",
       "      <td>222.0</td>\n",
       "      <td>258.86</td>\n",
       "      <td>279.63</td>\n",
       "    </tr>\n",
       "    <tr>\n",
       "      <th>2022-11-16</th>\n",
       "      <td>149</td>\n",
       "      <td>2</td>\n",
       "      <td>175.0</td>\n",
       "      <td>250.43</td>\n",
       "      <td>275.83</td>\n",
       "    </tr>\n",
       "  </tbody>\n",
       "</table>\n",
       "<p>108 rows × 5 columns</p>\n",
       "</div>"
      ],
      "text/plain": [
       "               Total Cases  dayofweek  yesterday_cases  cases_average_7D  \\\n",
       "Incident Date                                                              \n",
       "2022-08-01             315          0            285.0            309.00   \n",
       "2022-08-02             291          1            315.0            314.00   \n",
       "2022-08-03             319          2            291.0            309.14   \n",
       "2022-08-04             337          3            319.0            307.86   \n",
       "2022-08-05             346          4            337.0            308.29   \n",
       "...                    ...        ...              ...               ...   \n",
       "2022-11-12             281          5            262.0            255.00   \n",
       "2022-11-13             246          6            281.0            259.14   \n",
       "2022-11-14             222          0            246.0            264.00   \n",
       "2022-11-15             175          1            222.0            258.86   \n",
       "2022-11-16             149          2            175.0            250.43   \n",
       "\n",
       "               cases_average_30D  \n",
       "Incident Date                     \n",
       "2022-08-01                316.77  \n",
       "2022-08-02                316.50  \n",
       "2022-08-03                316.23  \n",
       "2022-08-04                317.17  \n",
       "2022-08-05                317.67  \n",
       "...                          ...  \n",
       "2022-11-12                286.50  \n",
       "2022-11-13                285.70  \n",
       "2022-11-14                282.70  \n",
       "2022-11-15                279.63  \n",
       "2022-11-16                275.83  \n",
       "\n",
       "[108 rows x 5 columns]"
      ]
     },
     "execution_count": 24,
     "metadata": {},
     "output_type": "execute_result"
    }
   ],
   "source": [
    "test_set"
   ]
  },
  {
   "cell_type": "markdown",
   "id": "4a842f70-db87-4fc4-8989-1d0e0227ae3b",
   "metadata": {},
   "source": [
    "## Scale Numeric Columns"
   ]
  },
  {
   "cell_type": "code",
   "execution_count": 25,
   "id": "77d0cf23-18da-4db1-bb49-668b457b5a1c",
   "metadata": {},
   "outputs": [],
   "source": [
    "numeric_cols = [\"yesterday_cases\", \"cases_average_7D\", \"cases_average_30D\"]"
   ]
  },
  {
   "cell_type": "code",
   "execution_count": 26,
   "id": "76cc783c-1742-4391-9ac3-3ee54eeb0635",
   "metadata": {},
   "outputs": [],
   "source": [
    "from sklearn.preprocessing import MinMaxScaler"
   ]
  },
  {
   "cell_type": "code",
   "execution_count": 27,
   "id": "52016dcb-a13a-4dc0-b699-e6334502f802",
   "metadata": {},
   "outputs": [],
   "source": [
    "scaler = MinMaxScaler()"
   ]
  },
  {
   "cell_type": "code",
   "execution_count": 28,
   "id": "29131b9c-9ebb-47ea-8492-b809ad3a4ca1",
   "metadata": {
    "tags": []
   },
   "outputs": [
    {
     "data": {
      "text/plain": [
       "MinMaxScaler()"
      ]
     },
     "execution_count": 28,
     "metadata": {},
     "output_type": "execute_result"
    }
   ],
   "source": [
    "scaler.fit(train_set[numeric_cols])"
   ]
  },
  {
   "cell_type": "code",
   "execution_count": 29,
   "id": "870294b8-908e-4414-88fa-e16cc080e24c",
   "metadata": {},
   "outputs": [
    {
     "name": "stderr",
     "output_type": "stream",
     "text": [
      "/var/folders/77/506sgzjs15b84ns9yp8cp2rc0000gn/T/ipykernel_64755/3017575333.py:1: SettingWithCopyWarning: \n",
      "A value is trying to be set on a copy of a slice from a DataFrame.\n",
      "Try using .loc[row_indexer,col_indexer] = value instead\n",
      "\n",
      "See the caveats in the documentation: https://pandas.pydata.org/pandas-docs/stable/user_guide/indexing.html#returning-a-view-versus-a-copy\n",
      "  train_set[numeric_cols] = scaler.transform(train_set[numeric_cols])\n"
     ]
    }
   ],
   "source": [
    "train_set[numeric_cols] = scaler.transform(train_set[numeric_cols])"
   ]
  },
  {
   "cell_type": "code",
   "execution_count": 30,
   "id": "095246ba-1541-42a6-ba61-5ac81d0c53fe",
   "metadata": {},
   "outputs": [
    {
     "data": {
      "text/html": [
       "<div>\n",
       "<style scoped>\n",
       "    .dataframe tbody tr th:only-of-type {\n",
       "        vertical-align: middle;\n",
       "    }\n",
       "\n",
       "    .dataframe tbody tr th {\n",
       "        vertical-align: top;\n",
       "    }\n",
       "\n",
       "    .dataframe thead th {\n",
       "        text-align: right;\n",
       "    }\n",
       "</style>\n",
       "<table border=\"1\" class=\"dataframe\">\n",
       "  <thead>\n",
       "    <tr style=\"text-align: right;\">\n",
       "      <th></th>\n",
       "      <th>Total Cases</th>\n",
       "      <th>dayofweek</th>\n",
       "      <th>yesterday_cases</th>\n",
       "      <th>cases_average_7D</th>\n",
       "      <th>cases_average_30D</th>\n",
       "    </tr>\n",
       "    <tr>\n",
       "      <th>Incident Date</th>\n",
       "      <th></th>\n",
       "      <th></th>\n",
       "      <th></th>\n",
       "      <th></th>\n",
       "      <th></th>\n",
       "    </tr>\n",
       "  </thead>\n",
       "  <tbody>\n",
       "    <tr>\n",
       "      <th>2018-01-31</th>\n",
       "      <td>384</td>\n",
       "      <td>2</td>\n",
       "      <td>0.534060</td>\n",
       "      <td>0.882847</td>\n",
       "      <td>0.871611</td>\n",
       "    </tr>\n",
       "    <tr>\n",
       "      <th>2018-02-01</th>\n",
       "      <td>387</td>\n",
       "      <td>3</td>\n",
       "      <td>0.585831</td>\n",
       "      <td>0.908621</td>\n",
       "      <td>0.856143</td>\n",
       "    </tr>\n",
       "    <tr>\n",
       "      <th>2018-02-02</th>\n",
       "      <td>365</td>\n",
       "      <td>4</td>\n",
       "      <td>0.594005</td>\n",
       "      <td>0.902372</td>\n",
       "      <td>0.867906</td>\n",
       "    </tr>\n",
       "    <tr>\n",
       "      <th>2018-02-03</th>\n",
       "      <td>340</td>\n",
       "      <td>5</td>\n",
       "      <td>0.534060</td>\n",
       "      <td>0.877965</td>\n",
       "      <td>0.867670</td>\n",
       "    </tr>\n",
       "    <tr>\n",
       "      <th>2018-02-04</th>\n",
       "      <td>290</td>\n",
       "      <td>6</td>\n",
       "      <td>0.465940</td>\n",
       "      <td>0.855658</td>\n",
       "      <td>0.858848</td>\n",
       "    </tr>\n",
       "    <tr>\n",
       "      <th>...</th>\n",
       "      <td>...</td>\n",
       "      <td>...</td>\n",
       "      <td>...</td>\n",
       "      <td>...</td>\n",
       "      <td>...</td>\n",
       "    </tr>\n",
       "    <tr>\n",
       "      <th>2022-07-27</th>\n",
       "      <td>328</td>\n",
       "      <td>2</td>\n",
       "      <td>0.425068</td>\n",
       "      <td>0.570438</td>\n",
       "      <td>0.655178</td>\n",
       "    </tr>\n",
       "    <tr>\n",
       "      <th>2022-07-28</th>\n",
       "      <td>334</td>\n",
       "      <td>3</td>\n",
       "      <td>0.433243</td>\n",
       "      <td>0.539734</td>\n",
       "      <td>0.653238</td>\n",
       "    </tr>\n",
       "    <tr>\n",
       "      <th>2022-07-29</th>\n",
       "      <td>317</td>\n",
       "      <td>4</td>\n",
       "      <td>0.449591</td>\n",
       "      <td>0.567656</td>\n",
       "      <td>0.659707</td>\n",
       "    </tr>\n",
       "    <tr>\n",
       "      <th>2022-07-30</th>\n",
       "      <td>294</td>\n",
       "      <td>5</td>\n",
       "      <td>0.403270</td>\n",
       "      <td>0.571805</td>\n",
       "      <td>0.660295</td>\n",
       "    </tr>\n",
       "    <tr>\n",
       "      <th>2022-07-31</th>\n",
       "      <td>285</td>\n",
       "      <td>6</td>\n",
       "      <td>0.340599</td>\n",
       "      <td>0.570438</td>\n",
       "      <td>0.658119</td>\n",
       "    </tr>\n",
       "  </tbody>\n",
       "</table>\n",
       "<p>1643 rows × 5 columns</p>\n",
       "</div>"
      ],
      "text/plain": [
       "               Total Cases  dayofweek  yesterday_cases  cases_average_7D  \\\n",
       "Incident Date                                                              \n",
       "2018-01-31             384          2         0.534060          0.882847   \n",
       "2018-02-01             387          3         0.585831          0.908621   \n",
       "2018-02-02             365          4         0.594005          0.902372   \n",
       "2018-02-03             340          5         0.534060          0.877965   \n",
       "2018-02-04             290          6         0.465940          0.855658   \n",
       "...                    ...        ...              ...               ...   \n",
       "2022-07-27             328          2         0.425068          0.570438   \n",
       "2022-07-28             334          3         0.433243          0.539734   \n",
       "2022-07-29             317          4         0.449591          0.567656   \n",
       "2022-07-30             294          5         0.403270          0.571805   \n",
       "2022-07-31             285          6         0.340599          0.570438   \n",
       "\n",
       "               cases_average_30D  \n",
       "Incident Date                     \n",
       "2018-01-31              0.871611  \n",
       "2018-02-01              0.856143  \n",
       "2018-02-02              0.867906  \n",
       "2018-02-03              0.867670  \n",
       "2018-02-04              0.858848  \n",
       "...                          ...  \n",
       "2022-07-27              0.655178  \n",
       "2022-07-28              0.653238  \n",
       "2022-07-29              0.659707  \n",
       "2022-07-30              0.660295  \n",
       "2022-07-31              0.658119  \n",
       "\n",
       "[1643 rows x 5 columns]"
      ]
     },
     "execution_count": 30,
     "metadata": {},
     "output_type": "execute_result"
    }
   ],
   "source": [
    "train_set"
   ]
  },
  {
   "cell_type": "code",
   "execution_count": 31,
   "id": "c271dff5-e9a6-4bf3-bd39-8bbd8de3d732",
   "metadata": {},
   "outputs": [
    {
     "name": "stderr",
     "output_type": "stream",
     "text": [
      "/var/folders/77/506sgzjs15b84ns9yp8cp2rc0000gn/T/ipykernel_64755/3735379440.py:1: SettingWithCopyWarning: \n",
      "A value is trying to be set on a copy of a slice from a DataFrame.\n",
      "Try using .loc[row_indexer,col_indexer] = value instead\n",
      "\n",
      "See the caveats in the documentation: https://pandas.pydata.org/pandas-docs/stable/user_guide/indexing.html#returning-a-view-versus-a-copy\n",
      "  test_set[numeric_cols] = scaler.transform(test_set[numeric_cols])  # only transform on test_set\n"
     ]
    }
   ],
   "source": [
    "test_set[numeric_cols] = scaler.transform(test_set[numeric_cols])  # only transform on test_set"
   ]
  },
  {
   "cell_type": "code",
   "execution_count": 32,
   "id": "d866aaee-b274-4912-b2ff-5aed67b51edd",
   "metadata": {},
   "outputs": [
    {
     "data": {
      "text/html": [
       "<div>\n",
       "<style scoped>\n",
       "    .dataframe tbody tr th:only-of-type {\n",
       "        vertical-align: middle;\n",
       "    }\n",
       "\n",
       "    .dataframe tbody tr th {\n",
       "        vertical-align: top;\n",
       "    }\n",
       "\n",
       "    .dataframe thead th {\n",
       "        text-align: right;\n",
       "    }\n",
       "</style>\n",
       "<table border=\"1\" class=\"dataframe\">\n",
       "  <thead>\n",
       "    <tr style=\"text-align: right;\">\n",
       "      <th></th>\n",
       "      <th>Total Cases</th>\n",
       "      <th>dayofweek</th>\n",
       "      <th>yesterday_cases</th>\n",
       "      <th>cases_average_7D</th>\n",
       "      <th>cases_average_30D</th>\n",
       "    </tr>\n",
       "    <tr>\n",
       "      <th>Incident Date</th>\n",
       "      <th></th>\n",
       "      <th></th>\n",
       "      <th></th>\n",
       "      <th></th>\n",
       "      <th></th>\n",
       "    </tr>\n",
       "  </thead>\n",
       "  <tbody>\n",
       "    <tr>\n",
       "      <th>2022-08-01</th>\n",
       "      <td>315</td>\n",
       "      <td>0</td>\n",
       "      <td>0.316076</td>\n",
       "      <td>0.592746</td>\n",
       "      <td>0.640299</td>\n",
       "    </tr>\n",
       "    <tr>\n",
       "      <th>2022-08-02</th>\n",
       "      <td>291</td>\n",
       "      <td>1</td>\n",
       "      <td>0.397820</td>\n",
       "      <td>0.617153</td>\n",
       "      <td>0.638711</td>\n",
       "    </tr>\n",
       "    <tr>\n",
       "      <th>2022-08-03</th>\n",
       "      <td>319</td>\n",
       "      <td>2</td>\n",
       "      <td>0.332425</td>\n",
       "      <td>0.593430</td>\n",
       "      <td>0.637123</td>\n",
       "    </tr>\n",
       "    <tr>\n",
       "      <th>2022-08-04</th>\n",
       "      <td>337</td>\n",
       "      <td>3</td>\n",
       "      <td>0.408719</td>\n",
       "      <td>0.587181</td>\n",
       "      <td>0.642651</td>\n",
       "    </tr>\n",
       "    <tr>\n",
       "      <th>2022-08-05</th>\n",
       "      <td>346</td>\n",
       "      <td>4</td>\n",
       "      <td>0.457766</td>\n",
       "      <td>0.589280</td>\n",
       "      <td>0.645592</td>\n",
       "    </tr>\n",
       "    <tr>\n",
       "      <th>...</th>\n",
       "      <td>...</td>\n",
       "      <td>...</td>\n",
       "      <td>...</td>\n",
       "      <td>...</td>\n",
       "      <td>...</td>\n",
       "    </tr>\n",
       "    <tr>\n",
       "      <th>2022-11-12</th>\n",
       "      <td>281</td>\n",
       "      <td>5</td>\n",
       "      <td>0.253406</td>\n",
       "      <td>0.329152</td>\n",
       "      <td>0.462271</td>\n",
       "    </tr>\n",
       "    <tr>\n",
       "      <th>2022-11-13</th>\n",
       "      <td>246</td>\n",
       "      <td>6</td>\n",
       "      <td>0.305177</td>\n",
       "      <td>0.349361</td>\n",
       "      <td>0.457566</td>\n",
       "    </tr>\n",
       "    <tr>\n",
       "      <th>2022-11-14</th>\n",
       "      <td>222</td>\n",
       "      <td>0</td>\n",
       "      <td>0.209809</td>\n",
       "      <td>0.373084</td>\n",
       "      <td>0.439922</td>\n",
       "    </tr>\n",
       "    <tr>\n",
       "      <th>2022-11-15</th>\n",
       "      <td>175</td>\n",
       "      <td>1</td>\n",
       "      <td>0.144414</td>\n",
       "      <td>0.347994</td>\n",
       "      <td>0.421867</td>\n",
       "    </tr>\n",
       "    <tr>\n",
       "      <th>2022-11-16</th>\n",
       "      <td>149</td>\n",
       "      <td>2</td>\n",
       "      <td>0.016349</td>\n",
       "      <td>0.306844</td>\n",
       "      <td>0.399518</td>\n",
       "    </tr>\n",
       "  </tbody>\n",
       "</table>\n",
       "<p>108 rows × 5 columns</p>\n",
       "</div>"
      ],
      "text/plain": [
       "               Total Cases  dayofweek  yesterday_cases  cases_average_7D  \\\n",
       "Incident Date                                                              \n",
       "2022-08-01             315          0         0.316076          0.592746   \n",
       "2022-08-02             291          1         0.397820          0.617153   \n",
       "2022-08-03             319          2         0.332425          0.593430   \n",
       "2022-08-04             337          3         0.408719          0.587181   \n",
       "2022-08-05             346          4         0.457766          0.589280   \n",
       "...                    ...        ...              ...               ...   \n",
       "2022-11-12             281          5         0.253406          0.329152   \n",
       "2022-11-13             246          6         0.305177          0.349361   \n",
       "2022-11-14             222          0         0.209809          0.373084   \n",
       "2022-11-15             175          1         0.144414          0.347994   \n",
       "2022-11-16             149          2         0.016349          0.306844   \n",
       "\n",
       "               cases_average_30D  \n",
       "Incident Date                     \n",
       "2022-08-01              0.640299  \n",
       "2022-08-02              0.638711  \n",
       "2022-08-03              0.637123  \n",
       "2022-08-04              0.642651  \n",
       "2022-08-05              0.645592  \n",
       "...                          ...  \n",
       "2022-11-12              0.462271  \n",
       "2022-11-13              0.457566  \n",
       "2022-11-14              0.439922  \n",
       "2022-11-15              0.421867  \n",
       "2022-11-16              0.399518  \n",
       "\n",
       "[108 rows x 5 columns]"
      ]
     },
     "execution_count": 32,
     "metadata": {},
     "output_type": "execute_result"
    }
   ],
   "source": [
    "test_set"
   ]
  },
  {
   "cell_type": "markdown",
   "id": "38fc70e7-7cab-4eab-a636-b117168b0334",
   "metadata": {
    "tags": []
   },
   "source": [
    "## Encode Categorical Columns"
   ]
  },
  {
   "cell_type": "code",
   "execution_count": 33,
   "id": "99f9cf9c-dcf7-4e3f-be19-07ad2e26d55c",
   "metadata": {},
   "outputs": [],
   "source": [
    "categorical_cols = [\"dayofweek\"]"
   ]
  },
  {
   "cell_type": "code",
   "execution_count": 34,
   "id": "dfeea3a7-97c7-4d2d-868f-5ac2cbd94793",
   "metadata": {},
   "outputs": [
    {
     "data": {
      "text/plain": [
       "dayofweek    7\n",
       "dtype: int64"
      ]
     },
     "execution_count": 34,
     "metadata": {},
     "output_type": "execute_result"
    }
   ],
   "source": [
    "df_incident_day[categorical_cols].nunique()"
   ]
  },
  {
   "cell_type": "code",
   "execution_count": 35,
   "id": "1ba6a8f6-7c39-4c65-b03f-efa3b506c734",
   "metadata": {},
   "outputs": [
    {
     "data": {
      "text/html": [
       "<div>\n",
       "<style scoped>\n",
       "    .dataframe tbody tr th:only-of-type {\n",
       "        vertical-align: middle;\n",
       "    }\n",
       "\n",
       "    .dataframe tbody tr th {\n",
       "        vertical-align: top;\n",
       "    }\n",
       "\n",
       "    .dataframe thead th {\n",
       "        text-align: right;\n",
       "    }\n",
       "</style>\n",
       "<table border=\"1\" class=\"dataframe\">\n",
       "  <thead>\n",
       "    <tr style=\"text-align: right;\">\n",
       "      <th></th>\n",
       "      <th>Total Cases</th>\n",
       "      <th>yesterday_cases</th>\n",
       "      <th>cases_average_7D</th>\n",
       "      <th>cases_average_30D</th>\n",
       "      <th>dayofweek_0</th>\n",
       "      <th>dayofweek_1</th>\n",
       "      <th>dayofweek_2</th>\n",
       "      <th>dayofweek_3</th>\n",
       "      <th>dayofweek_4</th>\n",
       "      <th>dayofweek_5</th>\n",
       "      <th>dayofweek_6</th>\n",
       "    </tr>\n",
       "    <tr>\n",
       "      <th>Incident Date</th>\n",
       "      <th></th>\n",
       "      <th></th>\n",
       "      <th></th>\n",
       "      <th></th>\n",
       "      <th></th>\n",
       "      <th></th>\n",
       "      <th></th>\n",
       "      <th></th>\n",
       "      <th></th>\n",
       "      <th></th>\n",
       "      <th></th>\n",
       "    </tr>\n",
       "  </thead>\n",
       "  <tbody>\n",
       "    <tr>\n",
       "      <th>2018-01-31</th>\n",
       "      <td>384</td>\n",
       "      <td>0.534060</td>\n",
       "      <td>0.882847</td>\n",
       "      <td>0.871611</td>\n",
       "      <td>0</td>\n",
       "      <td>0</td>\n",
       "      <td>1</td>\n",
       "      <td>0</td>\n",
       "      <td>0</td>\n",
       "      <td>0</td>\n",
       "      <td>0</td>\n",
       "    </tr>\n",
       "    <tr>\n",
       "      <th>2018-02-01</th>\n",
       "      <td>387</td>\n",
       "      <td>0.585831</td>\n",
       "      <td>0.908621</td>\n",
       "      <td>0.856143</td>\n",
       "      <td>0</td>\n",
       "      <td>0</td>\n",
       "      <td>0</td>\n",
       "      <td>1</td>\n",
       "      <td>0</td>\n",
       "      <td>0</td>\n",
       "      <td>0</td>\n",
       "    </tr>\n",
       "    <tr>\n",
       "      <th>2018-02-02</th>\n",
       "      <td>365</td>\n",
       "      <td>0.594005</td>\n",
       "      <td>0.902372</td>\n",
       "      <td>0.867906</td>\n",
       "      <td>0</td>\n",
       "      <td>0</td>\n",
       "      <td>0</td>\n",
       "      <td>0</td>\n",
       "      <td>1</td>\n",
       "      <td>0</td>\n",
       "      <td>0</td>\n",
       "    </tr>\n",
       "    <tr>\n",
       "      <th>2018-02-03</th>\n",
       "      <td>340</td>\n",
       "      <td>0.534060</td>\n",
       "      <td>0.877965</td>\n",
       "      <td>0.867670</td>\n",
       "      <td>0</td>\n",
       "      <td>0</td>\n",
       "      <td>0</td>\n",
       "      <td>0</td>\n",
       "      <td>0</td>\n",
       "      <td>1</td>\n",
       "      <td>0</td>\n",
       "    </tr>\n",
       "    <tr>\n",
       "      <th>2018-02-04</th>\n",
       "      <td>290</td>\n",
       "      <td>0.465940</td>\n",
       "      <td>0.855658</td>\n",
       "      <td>0.858848</td>\n",
       "      <td>0</td>\n",
       "      <td>0</td>\n",
       "      <td>0</td>\n",
       "      <td>0</td>\n",
       "      <td>0</td>\n",
       "      <td>0</td>\n",
       "      <td>1</td>\n",
       "    </tr>\n",
       "    <tr>\n",
       "      <th>...</th>\n",
       "      <td>...</td>\n",
       "      <td>...</td>\n",
       "      <td>...</td>\n",
       "      <td>...</td>\n",
       "      <td>...</td>\n",
       "      <td>...</td>\n",
       "      <td>...</td>\n",
       "      <td>...</td>\n",
       "      <td>...</td>\n",
       "      <td>...</td>\n",
       "      <td>...</td>\n",
       "    </tr>\n",
       "    <tr>\n",
       "      <th>2022-07-27</th>\n",
       "      <td>328</td>\n",
       "      <td>0.425068</td>\n",
       "      <td>0.570438</td>\n",
       "      <td>0.655178</td>\n",
       "      <td>0</td>\n",
       "      <td>0</td>\n",
       "      <td>1</td>\n",
       "      <td>0</td>\n",
       "      <td>0</td>\n",
       "      <td>0</td>\n",
       "      <td>0</td>\n",
       "    </tr>\n",
       "    <tr>\n",
       "      <th>2022-07-28</th>\n",
       "      <td>334</td>\n",
       "      <td>0.433243</td>\n",
       "      <td>0.539734</td>\n",
       "      <td>0.653238</td>\n",
       "      <td>0</td>\n",
       "      <td>0</td>\n",
       "      <td>0</td>\n",
       "      <td>1</td>\n",
       "      <td>0</td>\n",
       "      <td>0</td>\n",
       "      <td>0</td>\n",
       "    </tr>\n",
       "    <tr>\n",
       "      <th>2022-07-29</th>\n",
       "      <td>317</td>\n",
       "      <td>0.449591</td>\n",
       "      <td>0.567656</td>\n",
       "      <td>0.659707</td>\n",
       "      <td>0</td>\n",
       "      <td>0</td>\n",
       "      <td>0</td>\n",
       "      <td>0</td>\n",
       "      <td>1</td>\n",
       "      <td>0</td>\n",
       "      <td>0</td>\n",
       "    </tr>\n",
       "    <tr>\n",
       "      <th>2022-07-30</th>\n",
       "      <td>294</td>\n",
       "      <td>0.403270</td>\n",
       "      <td>0.571805</td>\n",
       "      <td>0.660295</td>\n",
       "      <td>0</td>\n",
       "      <td>0</td>\n",
       "      <td>0</td>\n",
       "      <td>0</td>\n",
       "      <td>0</td>\n",
       "      <td>1</td>\n",
       "      <td>0</td>\n",
       "    </tr>\n",
       "    <tr>\n",
       "      <th>2022-07-31</th>\n",
       "      <td>285</td>\n",
       "      <td>0.340599</td>\n",
       "      <td>0.570438</td>\n",
       "      <td>0.658119</td>\n",
       "      <td>0</td>\n",
       "      <td>0</td>\n",
       "      <td>0</td>\n",
       "      <td>0</td>\n",
       "      <td>0</td>\n",
       "      <td>0</td>\n",
       "      <td>1</td>\n",
       "    </tr>\n",
       "  </tbody>\n",
       "</table>\n",
       "<p>1643 rows × 11 columns</p>\n",
       "</div>"
      ],
      "text/plain": [
       "               Total Cases  yesterday_cases  cases_average_7D  \\\n",
       "Incident Date                                                   \n",
       "2018-01-31             384         0.534060          0.882847   \n",
       "2018-02-01             387         0.585831          0.908621   \n",
       "2018-02-02             365         0.594005          0.902372   \n",
       "2018-02-03             340         0.534060          0.877965   \n",
       "2018-02-04             290         0.465940          0.855658   \n",
       "...                    ...              ...               ...   \n",
       "2022-07-27             328         0.425068          0.570438   \n",
       "2022-07-28             334         0.433243          0.539734   \n",
       "2022-07-29             317         0.449591          0.567656   \n",
       "2022-07-30             294         0.403270          0.571805   \n",
       "2022-07-31             285         0.340599          0.570438   \n",
       "\n",
       "               cases_average_30D  dayofweek_0  dayofweek_1  dayofweek_2  \\\n",
       "Incident Date                                                             \n",
       "2018-01-31              0.871611            0            0            1   \n",
       "2018-02-01              0.856143            0            0            0   \n",
       "2018-02-02              0.867906            0            0            0   \n",
       "2018-02-03              0.867670            0            0            0   \n",
       "2018-02-04              0.858848            0            0            0   \n",
       "...                          ...          ...          ...          ...   \n",
       "2022-07-27              0.655178            0            0            1   \n",
       "2022-07-28              0.653238            0            0            0   \n",
       "2022-07-29              0.659707            0            0            0   \n",
       "2022-07-30              0.660295            0            0            0   \n",
       "2022-07-31              0.658119            0            0            0   \n",
       "\n",
       "               dayofweek_3  dayofweek_4  dayofweek_5  dayofweek_6  \n",
       "Incident Date                                                      \n",
       "2018-01-31               0            0            0            0  \n",
       "2018-02-01               1            0            0            0  \n",
       "2018-02-02               0            1            0            0  \n",
       "2018-02-03               0            0            1            0  \n",
       "2018-02-04               0            0            0            1  \n",
       "...                    ...          ...          ...          ...  \n",
       "2022-07-27               0            0            0            0  \n",
       "2022-07-28               1            0            0            0  \n",
       "2022-07-29               0            1            0            0  \n",
       "2022-07-30               0            0            1            0  \n",
       "2022-07-31               0            0            0            1  \n",
       "\n",
       "[1643 rows x 11 columns]"
      ]
     },
     "execution_count": 35,
     "metadata": {},
     "output_type": "execute_result"
    }
   ],
   "source": [
    "train_set  = pd.get_dummies(data=train_set, columns=categorical_cols)\n",
    "train_set"
   ]
  },
  {
   "cell_type": "code",
   "execution_count": 36,
   "id": "d87d0e4f-3857-4b89-bc1a-87644748d018",
   "metadata": {},
   "outputs": [
    {
     "data": {
      "text/html": [
       "<div>\n",
       "<style scoped>\n",
       "    .dataframe tbody tr th:only-of-type {\n",
       "        vertical-align: middle;\n",
       "    }\n",
       "\n",
       "    .dataframe tbody tr th {\n",
       "        vertical-align: top;\n",
       "    }\n",
       "\n",
       "    .dataframe thead th {\n",
       "        text-align: right;\n",
       "    }\n",
       "</style>\n",
       "<table border=\"1\" class=\"dataframe\">\n",
       "  <thead>\n",
       "    <tr style=\"text-align: right;\">\n",
       "      <th></th>\n",
       "      <th>Total Cases</th>\n",
       "      <th>yesterday_cases</th>\n",
       "      <th>cases_average_7D</th>\n",
       "      <th>cases_average_30D</th>\n",
       "      <th>dayofweek_0</th>\n",
       "      <th>dayofweek_1</th>\n",
       "      <th>dayofweek_2</th>\n",
       "      <th>dayofweek_3</th>\n",
       "      <th>dayofweek_4</th>\n",
       "      <th>dayofweek_5</th>\n",
       "      <th>dayofweek_6</th>\n",
       "    </tr>\n",
       "    <tr>\n",
       "      <th>Incident Date</th>\n",
       "      <th></th>\n",
       "      <th></th>\n",
       "      <th></th>\n",
       "      <th></th>\n",
       "      <th></th>\n",
       "      <th></th>\n",
       "      <th></th>\n",
       "      <th></th>\n",
       "      <th></th>\n",
       "      <th></th>\n",
       "      <th></th>\n",
       "    </tr>\n",
       "  </thead>\n",
       "  <tbody>\n",
       "    <tr>\n",
       "      <th>2022-08-01</th>\n",
       "      <td>315</td>\n",
       "      <td>0.316076</td>\n",
       "      <td>0.592746</td>\n",
       "      <td>0.640299</td>\n",
       "      <td>1</td>\n",
       "      <td>0</td>\n",
       "      <td>0</td>\n",
       "      <td>0</td>\n",
       "      <td>0</td>\n",
       "      <td>0</td>\n",
       "      <td>0</td>\n",
       "    </tr>\n",
       "    <tr>\n",
       "      <th>2022-08-02</th>\n",
       "      <td>291</td>\n",
       "      <td>0.397820</td>\n",
       "      <td>0.617153</td>\n",
       "      <td>0.638711</td>\n",
       "      <td>0</td>\n",
       "      <td>1</td>\n",
       "      <td>0</td>\n",
       "      <td>0</td>\n",
       "      <td>0</td>\n",
       "      <td>0</td>\n",
       "      <td>0</td>\n",
       "    </tr>\n",
       "    <tr>\n",
       "      <th>2022-08-03</th>\n",
       "      <td>319</td>\n",
       "      <td>0.332425</td>\n",
       "      <td>0.593430</td>\n",
       "      <td>0.637123</td>\n",
       "      <td>0</td>\n",
       "      <td>0</td>\n",
       "      <td>1</td>\n",
       "      <td>0</td>\n",
       "      <td>0</td>\n",
       "      <td>0</td>\n",
       "      <td>0</td>\n",
       "    </tr>\n",
       "    <tr>\n",
       "      <th>2022-08-04</th>\n",
       "      <td>337</td>\n",
       "      <td>0.408719</td>\n",
       "      <td>0.587181</td>\n",
       "      <td>0.642651</td>\n",
       "      <td>0</td>\n",
       "      <td>0</td>\n",
       "      <td>0</td>\n",
       "      <td>1</td>\n",
       "      <td>0</td>\n",
       "      <td>0</td>\n",
       "      <td>0</td>\n",
       "    </tr>\n",
       "    <tr>\n",
       "      <th>2022-08-05</th>\n",
       "      <td>346</td>\n",
       "      <td>0.457766</td>\n",
       "      <td>0.589280</td>\n",
       "      <td>0.645592</td>\n",
       "      <td>0</td>\n",
       "      <td>0</td>\n",
       "      <td>0</td>\n",
       "      <td>0</td>\n",
       "      <td>1</td>\n",
       "      <td>0</td>\n",
       "      <td>0</td>\n",
       "    </tr>\n",
       "    <tr>\n",
       "      <th>...</th>\n",
       "      <td>...</td>\n",
       "      <td>...</td>\n",
       "      <td>...</td>\n",
       "      <td>...</td>\n",
       "      <td>...</td>\n",
       "      <td>...</td>\n",
       "      <td>...</td>\n",
       "      <td>...</td>\n",
       "      <td>...</td>\n",
       "      <td>...</td>\n",
       "      <td>...</td>\n",
       "    </tr>\n",
       "    <tr>\n",
       "      <th>2022-11-12</th>\n",
       "      <td>281</td>\n",
       "      <td>0.253406</td>\n",
       "      <td>0.329152</td>\n",
       "      <td>0.462271</td>\n",
       "      <td>0</td>\n",
       "      <td>0</td>\n",
       "      <td>0</td>\n",
       "      <td>0</td>\n",
       "      <td>0</td>\n",
       "      <td>1</td>\n",
       "      <td>0</td>\n",
       "    </tr>\n",
       "    <tr>\n",
       "      <th>2022-11-13</th>\n",
       "      <td>246</td>\n",
       "      <td>0.305177</td>\n",
       "      <td>0.349361</td>\n",
       "      <td>0.457566</td>\n",
       "      <td>0</td>\n",
       "      <td>0</td>\n",
       "      <td>0</td>\n",
       "      <td>0</td>\n",
       "      <td>0</td>\n",
       "      <td>0</td>\n",
       "      <td>1</td>\n",
       "    </tr>\n",
       "    <tr>\n",
       "      <th>2022-11-14</th>\n",
       "      <td>222</td>\n",
       "      <td>0.209809</td>\n",
       "      <td>0.373084</td>\n",
       "      <td>0.439922</td>\n",
       "      <td>1</td>\n",
       "      <td>0</td>\n",
       "      <td>0</td>\n",
       "      <td>0</td>\n",
       "      <td>0</td>\n",
       "      <td>0</td>\n",
       "      <td>0</td>\n",
       "    </tr>\n",
       "    <tr>\n",
       "      <th>2022-11-15</th>\n",
       "      <td>175</td>\n",
       "      <td>0.144414</td>\n",
       "      <td>0.347994</td>\n",
       "      <td>0.421867</td>\n",
       "      <td>0</td>\n",
       "      <td>1</td>\n",
       "      <td>0</td>\n",
       "      <td>0</td>\n",
       "      <td>0</td>\n",
       "      <td>0</td>\n",
       "      <td>0</td>\n",
       "    </tr>\n",
       "    <tr>\n",
       "      <th>2022-11-16</th>\n",
       "      <td>149</td>\n",
       "      <td>0.016349</td>\n",
       "      <td>0.306844</td>\n",
       "      <td>0.399518</td>\n",
       "      <td>0</td>\n",
       "      <td>0</td>\n",
       "      <td>1</td>\n",
       "      <td>0</td>\n",
       "      <td>0</td>\n",
       "      <td>0</td>\n",
       "      <td>0</td>\n",
       "    </tr>\n",
       "  </tbody>\n",
       "</table>\n",
       "<p>108 rows × 11 columns</p>\n",
       "</div>"
      ],
      "text/plain": [
       "               Total Cases  yesterday_cases  cases_average_7D  \\\n",
       "Incident Date                                                   \n",
       "2022-08-01             315         0.316076          0.592746   \n",
       "2022-08-02             291         0.397820          0.617153   \n",
       "2022-08-03             319         0.332425          0.593430   \n",
       "2022-08-04             337         0.408719          0.587181   \n",
       "2022-08-05             346         0.457766          0.589280   \n",
       "...                    ...              ...               ...   \n",
       "2022-11-12             281         0.253406          0.329152   \n",
       "2022-11-13             246         0.305177          0.349361   \n",
       "2022-11-14             222         0.209809          0.373084   \n",
       "2022-11-15             175         0.144414          0.347994   \n",
       "2022-11-16             149         0.016349          0.306844   \n",
       "\n",
       "               cases_average_30D  dayofweek_0  dayofweek_1  dayofweek_2  \\\n",
       "Incident Date                                                             \n",
       "2022-08-01              0.640299            1            0            0   \n",
       "2022-08-02              0.638711            0            1            0   \n",
       "2022-08-03              0.637123            0            0            1   \n",
       "2022-08-04              0.642651            0            0            0   \n",
       "2022-08-05              0.645592            0            0            0   \n",
       "...                          ...          ...          ...          ...   \n",
       "2022-11-12              0.462271            0            0            0   \n",
       "2022-11-13              0.457566            0            0            0   \n",
       "2022-11-14              0.439922            1            0            0   \n",
       "2022-11-15              0.421867            0            1            0   \n",
       "2022-11-16              0.399518            0            0            1   \n",
       "\n",
       "               dayofweek_3  dayofweek_4  dayofweek_5  dayofweek_6  \n",
       "Incident Date                                                      \n",
       "2022-08-01               0            0            0            0  \n",
       "2022-08-02               0            0            0            0  \n",
       "2022-08-03               0            0            0            0  \n",
       "2022-08-04               1            0            0            0  \n",
       "2022-08-05               0            1            0            0  \n",
       "...                    ...          ...          ...          ...  \n",
       "2022-11-12               0            0            1            0  \n",
       "2022-11-13               0            0            0            1  \n",
       "2022-11-14               0            0            0            0  \n",
       "2022-11-15               0            0            0            0  \n",
       "2022-11-16               0            0            0            0  \n",
       "\n",
       "[108 rows x 11 columns]"
      ]
     },
     "execution_count": 36,
     "metadata": {},
     "output_type": "execute_result"
    }
   ],
   "source": [
    "test_set  = pd.get_dummies(data=test_set, columns=categorical_cols)\n",
    "test_set"
   ]
  },
  {
   "cell_type": "code",
   "execution_count": 37,
   "id": "31e786b7-c637-422d-b583-8b660819f66f",
   "metadata": {},
   "outputs": [],
   "source": [
    "X_train = train_set.drop(columns=[\"Total Cases\"])\n",
    "X_test = test_set.drop(columns=[\"Total Cases\"])"
   ]
  },
  {
   "cell_type": "code",
   "execution_count": 38,
   "id": "b10f6928-20ee-4202-8f41-2b1d58cb6905",
   "metadata": {
    "tags": []
   },
   "outputs": [],
   "source": [
    "y_train = train_set[\"Total Cases\"]\n",
    "y_test  = test_set[\"Total Cases\"]"
   ]
  },
  {
   "cell_type": "code",
   "execution_count": 39,
   "id": "01e0830d-81ea-47b4-a233-4c376ad24dcc",
   "metadata": {},
   "outputs": [
    {
     "data": {
      "text/plain": [
       "10"
      ]
     },
     "execution_count": 39,
     "metadata": {},
     "output_type": "execute_result"
    }
   ],
   "source": [
    "len(X_train.columns)"
   ]
  },
  {
   "cell_type": "code",
   "execution_count": 40,
   "id": "42dc8bd6-9420-40b8-8b95-bc8498577218",
   "metadata": {},
   "outputs": [
    {
     "data": {
      "text/plain": [
       "10"
      ]
     },
     "execution_count": 40,
     "metadata": {},
     "output_type": "execute_result"
    }
   ],
   "source": [
    "len(X_test.columns)"
   ]
  },
  {
   "cell_type": "markdown",
   "id": "bb6eb4b7-51d7-4756-bea2-084567706806",
   "metadata": {
    "tags": []
   },
   "source": [
    "## Machine Learning"
   ]
  },
  {
   "cell_type": "markdown",
   "id": "1c443431-29f5-4819-a75a-a038a792eb52",
   "metadata": {},
   "source": [
    "### Base"
   ]
  },
  {
   "cell_type": "code",
   "execution_count": 41,
   "id": "2a45cb8c-8344-4d63-bd30-2ac497935a76",
   "metadata": {},
   "outputs": [],
   "source": [
    "svr_base1 = SVR()"
   ]
  },
  {
   "cell_type": "code",
   "execution_count": 42,
   "id": "8e1f939d-3210-4d41-9940-b88e494354de",
   "metadata": {},
   "outputs": [
    {
     "data": {
      "text/plain": [
       "SVR()"
      ]
     },
     "execution_count": 42,
     "metadata": {},
     "output_type": "execute_result"
    }
   ],
   "source": [
    "svr_base1.fit(X_train , y_train)"
   ]
  },
  {
   "cell_type": "code",
   "execution_count": 43,
   "id": "3cb179d7-8a4a-49f1-9d1c-3af0384dbc3d",
   "metadata": {},
   "outputs": [],
   "source": [
    "pred_base1 = svr_base1.predict(X_test)"
   ]
  },
  {
   "cell_type": "code",
   "execution_count": 44,
   "id": "f33ffba8-21ce-4669-b175-6dd90f743de6",
   "metadata": {},
   "outputs": [
    {
     "name": "stdout",
     "output_type": "stream",
     "text": [
      "33.61896439212646\n"
     ]
    }
   ],
   "source": [
    "print(np.sqrt(mean_squared_error(y_test, pred_base1)))"
   ]
  },
  {
   "cell_type": "code",
   "execution_count": 45,
   "id": "b5e28231-580e-4f39-b21a-6b8bd188ff74",
   "metadata": {},
   "outputs": [
    {
     "name": "stdout",
     "output_type": "stream",
     "text": [
      "0.38203202328681685\n"
     ]
    }
   ],
   "source": [
    "print(r2_score(y_test, pred_base1))"
   ]
  },
  {
   "cell_type": "markdown",
   "id": "6fd8f5ae-cd6c-4e07-9614-1247e27dff42",
   "metadata": {},
   "source": [
    "### Adjust Parameter"
   ]
  },
  {
   "cell_type": "code",
   "execution_count": 46,
   "id": "7567eab1-256f-45eb-8df5-a29815c05157",
   "metadata": {},
   "outputs": [],
   "source": [
    "param_grid = {'kernel': ['linear'], 'C': [100,300, 500], 'epsilon': [0.00001, 0.0001, 0.001]}"
   ]
  },
  {
   "cell_type": "code",
   "execution_count": 47,
   "id": "cb9cd806-e775-4add-ac58-7db39f0c1259",
   "metadata": {},
   "outputs": [],
   "source": [
    "svr = SVR()"
   ]
  },
  {
   "cell_type": "code",
   "execution_count": 48,
   "id": "7a9afda4-94d2-41cc-bcbb-ee90a7dbf62b",
   "metadata": {},
   "outputs": [
    {
     "name": "stdout",
     "output_type": "stream",
     "text": [
      "CPU times: user 87 µs, sys: 290 µs, total: 377 µs\n",
      "Wall time: 390 µs\n"
     ]
    }
   ],
   "source": [
    "%%time\n",
    "grid_search = GridSearchCV(svr, param_grid, cv=5, scoring='r2')"
   ]
  },
  {
   "cell_type": "code",
   "execution_count": 49,
   "id": "2ad04021-4657-4387-b3ec-931fe6395ad2",
   "metadata": {},
   "outputs": [
    {
     "name": "stdout",
     "output_type": "stream",
     "text": [
      "CPU times: user 3.89 s, sys: 22.8 ms, total: 3.92 s\n",
      "Wall time: 3.92 s\n"
     ]
    },
    {
     "data": {
      "text/plain": [
       "GridSearchCV(cv=5, estimator=SVR(),\n",
       "             param_grid={'C': [100, 300, 500],\n",
       "                         'epsilon': [1e-05, 0.0001, 0.001],\n",
       "                         'kernel': ['linear']},\n",
       "             scoring='r2')"
      ]
     },
     "execution_count": 49,
     "metadata": {},
     "output_type": "execute_result"
    }
   ],
   "source": [
    "%%time\n",
    "grid_search.fit(X_train, y_train)"
   ]
  },
  {
   "cell_type": "code",
   "execution_count": 50,
   "id": "7a0555c8-dc3a-4c74-8ba2-73f55ed939b9",
   "metadata": {},
   "outputs": [
    {
     "name": "stdout",
     "output_type": "stream",
     "text": [
      "{'C': 100, 'epsilon': 0.0001, 'kernel': 'linear'}\n",
      "CPU times: user 20 µs, sys: 2 µs, total: 22 µs\n",
      "Wall time: 25 µs\n"
     ]
    }
   ],
   "source": [
    "%%time\n",
    "print(grid_search.best_params_)"
   ]
  },
  {
   "cell_type": "code",
   "execution_count": 51,
   "id": "d3cf2876-b8fb-451e-8084-d996278b422b",
   "metadata": {},
   "outputs": [],
   "source": [
    "svr_best = grid_search.best_estimator_"
   ]
  },
  {
   "cell_type": "code",
   "execution_count": 52,
   "id": "22d41c26-0d40-4033-91ba-c68c5b65ee96",
   "metadata": {},
   "outputs": [],
   "source": [
    "pred_svr_adjusted = svr_best.predict(X_test)"
   ]
  },
  {
   "cell_type": "code",
   "execution_count": 53,
   "id": "ab5dc1a9-5a50-46bb-837b-b694764ed5a3",
   "metadata": {},
   "outputs": [
    {
     "name": "stdout",
     "output_type": "stream",
     "text": [
      "31.32712156647323\n"
     ]
    }
   ],
   "source": [
    "print(np.sqrt(mean_squared_error(y_test, pred_svr_adjusted)))"
   ]
  },
  {
   "cell_type": "code",
   "execution_count": 54,
   "id": "bec1eb39-a377-49ff-baab-ee984cb4528d",
   "metadata": {},
   "outputs": [
    {
     "name": "stdout",
     "output_type": "stream",
     "text": [
      "0.4634152905802199\n"
     ]
    }
   ],
   "source": [
    "print(r2_score(y_test, pred_svr_adjusted))"
   ]
  },
  {
   "cell_type": "code",
   "execution_count": 306,
   "id": "e4a2c601-4763-48a1-ba2f-e42f61f49dbb",
   "metadata": {},
   "outputs": [
    {
     "data": {
      "text/html": [
       "<div>\n",
       "<style scoped>\n",
       "    .dataframe tbody tr th:only-of-type {\n",
       "        vertical-align: middle;\n",
       "    }\n",
       "\n",
       "    .dataframe tbody tr th {\n",
       "        vertical-align: top;\n",
       "    }\n",
       "\n",
       "    .dataframe thead th {\n",
       "        text-align: right;\n",
       "    }\n",
       "</style>\n",
       "<table border=\"1\" class=\"dataframe\">\n",
       "  <thead>\n",
       "    <tr style=\"text-align: right;\">\n",
       "      <th></th>\n",
       "      <th>actual_cases</th>\n",
       "      <th>predicted_cases</th>\n",
       "    </tr>\n",
       "  </thead>\n",
       "  <tbody>\n",
       "  </tbody>\n",
       "</table>\n",
       "</div>"
      ],
      "text/plain": [
       "Empty DataFrame\n",
       "Columns: [actual_cases, predicted_cases]\n",
       "Index: []"
      ]
     },
     "execution_count": 306,
     "metadata": {},
     "output_type": "execute_result"
    }
   ],
   "source": [
    "df_compare = pd.DataFrame(columns=[\"actual_cases\", \"predicted_cases\"])\n",
    "df_compare"
   ]
  },
  {
   "cell_type": "code",
   "execution_count": 307,
   "id": "7462e3b8-7bea-4963-bd03-58150701ede8",
   "metadata": {},
   "outputs": [],
   "source": [
    "df_compare[\"actual_cases\"] = test_set[\"Total Cases\"]"
   ]
  },
  {
   "cell_type": "code",
   "execution_count": 308,
   "id": "a08fb867-4e5c-4d9d-9cd0-8da42850483e",
   "metadata": {},
   "outputs": [
    {
     "data": {
      "text/html": [
       "<div>\n",
       "<style scoped>\n",
       "    .dataframe tbody tr th:only-of-type {\n",
       "        vertical-align: middle;\n",
       "    }\n",
       "\n",
       "    .dataframe tbody tr th {\n",
       "        vertical-align: top;\n",
       "    }\n",
       "\n",
       "    .dataframe thead th {\n",
       "        text-align: right;\n",
       "    }\n",
       "</style>\n",
       "<table border=\"1\" class=\"dataframe\">\n",
       "  <thead>\n",
       "    <tr style=\"text-align: right;\">\n",
       "      <th></th>\n",
       "      <th>actual_cases</th>\n",
       "      <th>predicted_cases</th>\n",
       "    </tr>\n",
       "    <tr>\n",
       "      <th>Incident Date</th>\n",
       "      <th></th>\n",
       "      <th></th>\n",
       "    </tr>\n",
       "  </thead>\n",
       "  <tbody>\n",
       "    <tr>\n",
       "      <th>2022-08-01</th>\n",
       "      <td>315</td>\n",
       "      <td>NaN</td>\n",
       "    </tr>\n",
       "    <tr>\n",
       "      <th>2022-08-02</th>\n",
       "      <td>291</td>\n",
       "      <td>NaN</td>\n",
       "    </tr>\n",
       "    <tr>\n",
       "      <th>2022-08-03</th>\n",
       "      <td>319</td>\n",
       "      <td>NaN</td>\n",
       "    </tr>\n",
       "    <tr>\n",
       "      <th>2022-08-04</th>\n",
       "      <td>337</td>\n",
       "      <td>NaN</td>\n",
       "    </tr>\n",
       "    <tr>\n",
       "      <th>2022-08-05</th>\n",
       "      <td>346</td>\n",
       "      <td>NaN</td>\n",
       "    </tr>\n",
       "    <tr>\n",
       "      <th>...</th>\n",
       "      <td>...</td>\n",
       "      <td>...</td>\n",
       "    </tr>\n",
       "    <tr>\n",
       "      <th>2022-11-12</th>\n",
       "      <td>281</td>\n",
       "      <td>NaN</td>\n",
       "    </tr>\n",
       "    <tr>\n",
       "      <th>2022-11-13</th>\n",
       "      <td>246</td>\n",
       "      <td>NaN</td>\n",
       "    </tr>\n",
       "    <tr>\n",
       "      <th>2022-11-14</th>\n",
       "      <td>222</td>\n",
       "      <td>NaN</td>\n",
       "    </tr>\n",
       "    <tr>\n",
       "      <th>2022-11-15</th>\n",
       "      <td>175</td>\n",
       "      <td>NaN</td>\n",
       "    </tr>\n",
       "    <tr>\n",
       "      <th>2022-11-16</th>\n",
       "      <td>149</td>\n",
       "      <td>NaN</td>\n",
       "    </tr>\n",
       "  </tbody>\n",
       "</table>\n",
       "<p>108 rows × 2 columns</p>\n",
       "</div>"
      ],
      "text/plain": [
       "               actual_cases predicted_cases\n",
       "Incident Date                              \n",
       "2022-08-01              315             NaN\n",
       "2022-08-02              291             NaN\n",
       "2022-08-03              319             NaN\n",
       "2022-08-04              337             NaN\n",
       "2022-08-05              346             NaN\n",
       "...                     ...             ...\n",
       "2022-11-12              281             NaN\n",
       "2022-11-13              246             NaN\n",
       "2022-11-14              222             NaN\n",
       "2022-11-15              175             NaN\n",
       "2022-11-16              149             NaN\n",
       "\n",
       "[108 rows x 2 columns]"
      ]
     },
     "execution_count": 308,
     "metadata": {},
     "output_type": "execute_result"
    }
   ],
   "source": [
    "df_compare"
   ]
  },
  {
   "cell_type": "code",
   "execution_count": 309,
   "id": "34ff8158-a4f2-4a2a-8b55-da177d56f291",
   "metadata": {},
   "outputs": [],
   "source": [
    "df_compare[\"predicted_cases\"] = pred_svr_adjusted"
   ]
  },
  {
   "cell_type": "code",
   "execution_count": 310,
   "id": "8dfea0e6-35d0-479a-87a5-8217e78b3b05",
   "metadata": {},
   "outputs": [
    {
     "data": {
      "text/html": [
       "<div>\n",
       "<style scoped>\n",
       "    .dataframe tbody tr th:only-of-type {\n",
       "        vertical-align: middle;\n",
       "    }\n",
       "\n",
       "    .dataframe tbody tr th {\n",
       "        vertical-align: top;\n",
       "    }\n",
       "\n",
       "    .dataframe thead th {\n",
       "        text-align: right;\n",
       "    }\n",
       "</style>\n",
       "<table border=\"1\" class=\"dataframe\">\n",
       "  <thead>\n",
       "    <tr style=\"text-align: right;\">\n",
       "      <th></th>\n",
       "      <th>actual_cases</th>\n",
       "      <th>predicted_cases</th>\n",
       "    </tr>\n",
       "    <tr>\n",
       "      <th>Incident Date</th>\n",
       "      <th></th>\n",
       "      <th></th>\n",
       "    </tr>\n",
       "  </thead>\n",
       "  <tbody>\n",
       "    <tr>\n",
       "      <th>2022-08-01</th>\n",
       "      <td>315</td>\n",
       "      <td>311.840227</td>\n",
       "    </tr>\n",
       "    <tr>\n",
       "      <th>2022-08-02</th>\n",
       "      <td>291</td>\n",
       "      <td>311.346129</td>\n",
       "    </tr>\n",
       "    <tr>\n",
       "      <th>2022-08-03</th>\n",
       "      <td>319</td>\n",
       "      <td>318.429280</td>\n",
       "    </tr>\n",
       "    <tr>\n",
       "      <th>2022-08-04</th>\n",
       "      <td>337</td>\n",
       "      <td>309.588616</td>\n",
       "    </tr>\n",
       "    <tr>\n",
       "      <th>2022-08-05</th>\n",
       "      <td>346</td>\n",
       "      <td>334.707216</td>\n",
       "    </tr>\n",
       "    <tr>\n",
       "      <th>...</th>\n",
       "      <td>...</td>\n",
       "      <td>...</td>\n",
       "    </tr>\n",
       "    <tr>\n",
       "      <th>2022-11-12</th>\n",
       "      <td>281</td>\n",
       "      <td>270.024355</td>\n",
       "    </tr>\n",
       "    <tr>\n",
       "      <th>2022-11-13</th>\n",
       "      <td>246</td>\n",
       "      <td>251.536410</td>\n",
       "    </tr>\n",
       "    <tr>\n",
       "      <th>2022-11-14</th>\n",
       "      <td>222</td>\n",
       "      <td>274.751543</td>\n",
       "    </tr>\n",
       "    <tr>\n",
       "      <th>2022-11-15</th>\n",
       "      <td>175</td>\n",
       "      <td>268.285551</td>\n",
       "    </tr>\n",
       "    <tr>\n",
       "      <th>2022-11-16</th>\n",
       "      <td>149</td>\n",
       "      <td>272.021787</td>\n",
       "    </tr>\n",
       "  </tbody>\n",
       "</table>\n",
       "<p>108 rows × 2 columns</p>\n",
       "</div>"
      ],
      "text/plain": [
       "               actual_cases  predicted_cases\n",
       "Incident Date                               \n",
       "2022-08-01              315       311.840227\n",
       "2022-08-02              291       311.346129\n",
       "2022-08-03              319       318.429280\n",
       "2022-08-04              337       309.588616\n",
       "2022-08-05              346       334.707216\n",
       "...                     ...              ...\n",
       "2022-11-12              281       270.024355\n",
       "2022-11-13              246       251.536410\n",
       "2022-11-14              222       274.751543\n",
       "2022-11-15              175       268.285551\n",
       "2022-11-16              149       272.021787\n",
       "\n",
       "[108 rows x 2 columns]"
      ]
     },
     "execution_count": 310,
     "metadata": {},
     "output_type": "execute_result"
    }
   ],
   "source": [
    "df_compare"
   ]
  },
  {
   "cell_type": "code",
   "execution_count": 326,
   "id": "b135e434-da6c-4689-9dc7-1a05cc21eac7",
   "metadata": {},
   "outputs": [
    {
     "data": {
      "application/vnd.plotly.v1+json": {
       "config": {
        "plotlyServerURL": "https://plot.ly"
       },
       "data": [
        {
         "hovertemplate": "variable=actual_cases<br>Incident Date=%{x}<br>value=%{y}<extra></extra>",
         "legendgroup": "actual_cases",
         "line": {
          "color": "#636efa",
          "dash": "solid"
         },
         "marker": {
          "symbol": "circle"
         },
         "mode": "lines",
         "name": "actual_cases",
         "orientation": "v",
         "showlegend": true,
         "type": "scatter",
         "x": [
          "2022-08-01T00:00:00",
          "2022-08-02T00:00:00",
          "2022-08-03T00:00:00",
          "2022-08-04T00:00:00",
          "2022-08-05T00:00:00",
          "2022-08-06T00:00:00",
          "2022-08-07T00:00:00",
          "2022-08-08T00:00:00",
          "2022-08-09T00:00:00",
          "2022-08-10T00:00:00",
          "2022-08-11T00:00:00",
          "2022-08-12T00:00:00",
          "2022-08-13T00:00:00",
          "2022-08-14T00:00:00",
          "2022-08-15T00:00:00",
          "2022-08-16T00:00:00",
          "2022-08-17T00:00:00",
          "2022-08-18T00:00:00",
          "2022-08-19T00:00:00",
          "2022-08-20T00:00:00",
          "2022-08-21T00:00:00",
          "2022-08-22T00:00:00",
          "2022-08-23T00:00:00",
          "2022-08-24T00:00:00",
          "2022-08-25T00:00:00",
          "2022-08-26T00:00:00",
          "2022-08-27T00:00:00",
          "2022-08-28T00:00:00",
          "2022-08-29T00:00:00",
          "2022-08-30T00:00:00",
          "2022-08-31T00:00:00",
          "2022-09-01T00:00:00",
          "2022-09-02T00:00:00",
          "2022-09-03T00:00:00",
          "2022-09-04T00:00:00",
          "2022-09-05T00:00:00",
          "2022-09-06T00:00:00",
          "2022-09-07T00:00:00",
          "2022-09-08T00:00:00",
          "2022-09-09T00:00:00",
          "2022-09-10T00:00:00",
          "2022-09-11T00:00:00",
          "2022-09-12T00:00:00",
          "2022-09-13T00:00:00",
          "2022-09-14T00:00:00",
          "2022-09-15T00:00:00",
          "2022-09-16T00:00:00",
          "2022-09-17T00:00:00",
          "2022-09-18T00:00:00",
          "2022-09-19T00:00:00",
          "2022-09-20T00:00:00",
          "2022-09-21T00:00:00",
          "2022-09-22T00:00:00",
          "2022-09-23T00:00:00",
          "2022-09-24T00:00:00",
          "2022-09-25T00:00:00",
          "2022-09-26T00:00:00",
          "2022-09-27T00:00:00",
          "2022-09-28T00:00:00",
          "2022-09-29T00:00:00",
          "2022-09-30T00:00:00",
          "2022-10-01T00:00:00",
          "2022-10-02T00:00:00",
          "2022-10-03T00:00:00",
          "2022-10-04T00:00:00",
          "2022-10-05T00:00:00",
          "2022-10-06T00:00:00",
          "2022-10-07T00:00:00",
          "2022-10-08T00:00:00",
          "2022-10-09T00:00:00",
          "2022-10-10T00:00:00",
          "2022-10-11T00:00:00",
          "2022-10-12T00:00:00",
          "2022-10-13T00:00:00",
          "2022-10-14T00:00:00",
          "2022-10-15T00:00:00",
          "2022-10-16T00:00:00",
          "2022-10-17T00:00:00",
          "2022-10-18T00:00:00",
          "2022-10-19T00:00:00",
          "2022-10-20T00:00:00",
          "2022-10-21T00:00:00",
          "2022-10-22T00:00:00",
          "2022-10-23T00:00:00",
          "2022-10-24T00:00:00",
          "2022-10-25T00:00:00",
          "2022-10-26T00:00:00",
          "2022-10-27T00:00:00",
          "2022-10-28T00:00:00",
          "2022-10-29T00:00:00",
          "2022-10-30T00:00:00",
          "2022-10-31T00:00:00",
          "2022-11-01T00:00:00",
          "2022-11-02T00:00:00",
          "2022-11-03T00:00:00",
          "2022-11-04T00:00:00",
          "2022-11-05T00:00:00",
          "2022-11-06T00:00:00",
          "2022-11-07T00:00:00",
          "2022-11-08T00:00:00",
          "2022-11-09T00:00:00",
          "2022-11-10T00:00:00",
          "2022-11-11T00:00:00",
          "2022-11-12T00:00:00",
          "2022-11-13T00:00:00",
          "2022-11-14T00:00:00",
          "2022-11-15T00:00:00",
          "2022-11-16T00:00:00"
         ],
         "xaxis": "x",
         "y": [
          315,
          291,
          319,
          337,
          346,
          365,
          331,
          328,
          287,
          334,
          310,
          325,
          240,
          287,
          316,
          315,
          341,
          318,
          326,
          287,
          259,
          309,
          298,
          304,
          340,
          352,
          330,
          283,
          314,
          290,
          340,
          402,
          363,
          385,
          345,
          361,
          307,
          364,
          326,
          348,
          295,
          304,
          330,
          277,
          303,
          330,
          372,
          313,
          251,
          321,
          329,
          350,
          372,
          379,
          336,
          312,
          299,
          332,
          342,
          375,
          354,
          364,
          325,
          280,
          302,
          341,
          312,
          378,
          324,
          313,
          371,
          305,
          276,
          305,
          336,
          314,
          289,
          273,
          297,
          329,
          305,
          371,
          294,
          309,
          304,
          336,
          290,
          296,
          286,
          282,
          238,
          240,
          291,
          278,
          282,
          265,
          252,
          212,
          258,
          234,
          283,
          284,
          262,
          281,
          246,
          222,
          175,
          149
         ],
         "yaxis": "y"
        },
        {
         "hovertemplate": "variable=predicted_cases<br>Incident Date=%{x}<br>value=%{y}<extra></extra>",
         "legendgroup": "predicted_cases",
         "line": {
          "color": "#EF553B",
          "dash": "solid"
         },
         "marker": {
          "symbol": "circle"
         },
         "mode": "lines",
         "name": "predicted_cases",
         "orientation": "v",
         "showlegend": true,
         "type": "scatter",
         "x": [
          "2022-08-01T00:00:00",
          "2022-08-02T00:00:00",
          "2022-08-03T00:00:00",
          "2022-08-04T00:00:00",
          "2022-08-05T00:00:00",
          "2022-08-06T00:00:00",
          "2022-08-07T00:00:00",
          "2022-08-08T00:00:00",
          "2022-08-09T00:00:00",
          "2022-08-10T00:00:00",
          "2022-08-11T00:00:00",
          "2022-08-12T00:00:00",
          "2022-08-13T00:00:00",
          "2022-08-14T00:00:00",
          "2022-08-15T00:00:00",
          "2022-08-16T00:00:00",
          "2022-08-17T00:00:00",
          "2022-08-18T00:00:00",
          "2022-08-19T00:00:00",
          "2022-08-20T00:00:00",
          "2022-08-21T00:00:00",
          "2022-08-22T00:00:00",
          "2022-08-23T00:00:00",
          "2022-08-24T00:00:00",
          "2022-08-25T00:00:00",
          "2022-08-26T00:00:00",
          "2022-08-27T00:00:00",
          "2022-08-28T00:00:00",
          "2022-08-29T00:00:00",
          "2022-08-30T00:00:00",
          "2022-08-31T00:00:00",
          "2022-09-01T00:00:00",
          "2022-09-02T00:00:00",
          "2022-09-03T00:00:00",
          "2022-09-04T00:00:00",
          "2022-09-05T00:00:00",
          "2022-09-06T00:00:00",
          "2022-09-07T00:00:00",
          "2022-09-08T00:00:00",
          "2022-09-09T00:00:00",
          "2022-09-10T00:00:00",
          "2022-09-11T00:00:00",
          "2022-09-12T00:00:00",
          "2022-09-13T00:00:00",
          "2022-09-14T00:00:00",
          "2022-09-15T00:00:00",
          "2022-09-16T00:00:00",
          "2022-09-17T00:00:00",
          "2022-09-18T00:00:00",
          "2022-09-19T00:00:00",
          "2022-09-20T00:00:00",
          "2022-09-21T00:00:00",
          "2022-09-22T00:00:00",
          "2022-09-23T00:00:00",
          "2022-09-24T00:00:00",
          "2022-09-25T00:00:00",
          "2022-09-26T00:00:00",
          "2022-09-27T00:00:00",
          "2022-09-28T00:00:00",
          "2022-09-29T00:00:00",
          "2022-09-30T00:00:00",
          "2022-10-01T00:00:00",
          "2022-10-02T00:00:00",
          "2022-10-03T00:00:00",
          "2022-10-04T00:00:00",
          "2022-10-05T00:00:00",
          "2022-10-06T00:00:00",
          "2022-10-07T00:00:00",
          "2022-10-08T00:00:00",
          "2022-10-09T00:00:00",
          "2022-10-10T00:00:00",
          "2022-10-11T00:00:00",
          "2022-10-12T00:00:00",
          "2022-10-13T00:00:00",
          "2022-10-14T00:00:00",
          "2022-10-15T00:00:00",
          "2022-10-16T00:00:00",
          "2022-10-17T00:00:00",
          "2022-10-18T00:00:00",
          "2022-10-19T00:00:00",
          "2022-10-20T00:00:00",
          "2022-10-21T00:00:00",
          "2022-10-22T00:00:00",
          "2022-10-23T00:00:00",
          "2022-10-24T00:00:00",
          "2022-10-25T00:00:00",
          "2022-10-26T00:00:00",
          "2022-10-27T00:00:00",
          "2022-10-28T00:00:00",
          "2022-10-29T00:00:00",
          "2022-10-30T00:00:00",
          "2022-10-31T00:00:00",
          "2022-11-01T00:00:00",
          "2022-11-02T00:00:00",
          "2022-11-03T00:00:00",
          "2022-11-04T00:00:00",
          "2022-11-05T00:00:00",
          "2022-11-06T00:00:00",
          "2022-11-07T00:00:00",
          "2022-11-08T00:00:00",
          "2022-11-09T00:00:00",
          "2022-11-10T00:00:00",
          "2022-11-11T00:00:00",
          "2022-11-12T00:00:00",
          "2022-11-13T00:00:00",
          "2022-11-14T00:00:00",
          "2022-11-15T00:00:00",
          "2022-11-16T00:00:00"
         ],
         "xaxis": "x",
         "y": [
          311.8402266271958,
          311.3461291156177,
          318.42928012720677,
          309.5886163344844,
          334.70721596907845,
          311.1896952033536,
          295.83102046802696,
          320.61954064567874,
          319.73225644840335,
          328.4055285849874,
          321.27366684071524,
          344.1369612662392,
          316.74286085358483,
          286.87024113789766,
          305.0441163258493,
          301.6658525881884,
          313.41115723353715,
          305.83034093934174,
          331.44727736409135,
          305.5126145954312,
          288.47448416831287,
          308.28446622658333,
          305.41432139797087,
          314.4661315084074,
          303.7369123376793,
          330.0900803225488,
          306.9154053635708,
          289.6580409261395,
          313.1387463024945,
          311.16177876842556,
          320.1391602549801,
          314.16806913707114,
          344.67352305381746,
          320.8503432130052,
          305.22470604581815,
          331.7080258071064,
          332.0585472008609,
          342.191296794978,
          335.61560088959095,
          356.00111885499086,
          330.00491815103754,
          303.9476525386402,
          323.4266167464913,
          320.25175613441377,
          327.5642754804274,
          314.68116785204637,
          339.86331144583704,
          316.6740429356141,
          297.781634360112,
          315.5995249410674,
          312.94012750074484,
          326.87320581460403,
          321.86940210683554,
          350.4747911975499,
          326.9015668476158,
          308.35552001436895,
          334.1349192347915,
          329.5695828038037,
          339.98798005590754,
          331.20596916294267,
          357.4641856474591,
          330.81928099397044,
          312.03791203462595,
          334.74243352429147,
          329.1690672024772,
          335.9386789504472,
          326.8328750291396,
          347.5050391047739,
          324.0418712658132,
          301.43566312890346,
          322.5687242532324,
          327.0752067685188,
          336.70614345051274,
          322.889707133339,
          347.5744572286172,
          320.13928659653993,
          299.25036713010365,
          318.82017581637206,
          309.1789119094531,
          318.83579845318906,
          313.67942861107286,
          337.96701978638873,
          315.3289464285385,
          292.7879514165828,
          315.418476114643,
          314.2743791566707,
          326.61489848936964,
          315.2205748616401,
          338.73155031797234,
          307.05723074032204,
          284.7891121383874,
          300.7704420389721,
          291.9659168488605,
          297.910945575085,
          288.3860051063368,
          311.8294092085988,
          283.9804402678648,
          261.0793138134477,
          279.16232005650124,
          276.6213064950153,
          281.06142329125856,
          271.2311514861491,
          295.69928002852475,
          270.02435486964276,
          251.53640966326435,
          274.75154307875476,
          268.2855507352884,
          272.02178680421736
         ],
         "yaxis": "y"
        }
       ],
       "layout": {
        "height": 800,
        "legend": {
         "title": {
          "text": "variable"
         },
         "tracegroupgap": 0
        },
        "margin": {
         "t": 60
        },
        "template": {
         "data": {
          "bar": [
           {
            "error_x": {
             "color": "#2a3f5f"
            },
            "error_y": {
             "color": "#2a3f5f"
            },
            "marker": {
             "line": {
              "color": "#E5ECF6",
              "width": 0.5
             },
             "pattern": {
              "fillmode": "overlay",
              "size": 10,
              "solidity": 0.2
             }
            },
            "type": "bar"
           }
          ],
          "barpolar": [
           {
            "marker": {
             "line": {
              "color": "#E5ECF6",
              "width": 0.5
             },
             "pattern": {
              "fillmode": "overlay",
              "size": 10,
              "solidity": 0.2
             }
            },
            "type": "barpolar"
           }
          ],
          "carpet": [
           {
            "aaxis": {
             "endlinecolor": "#2a3f5f",
             "gridcolor": "white",
             "linecolor": "white",
             "minorgridcolor": "white",
             "startlinecolor": "#2a3f5f"
            },
            "baxis": {
             "endlinecolor": "#2a3f5f",
             "gridcolor": "white",
             "linecolor": "white",
             "minorgridcolor": "white",
             "startlinecolor": "#2a3f5f"
            },
            "type": "carpet"
           }
          ],
          "choropleth": [
           {
            "colorbar": {
             "outlinewidth": 0,
             "ticks": ""
            },
            "type": "choropleth"
           }
          ],
          "contour": [
           {
            "colorbar": {
             "outlinewidth": 0,
             "ticks": ""
            },
            "colorscale": [
             [
              0,
              "#0d0887"
             ],
             [
              0.1111111111111111,
              "#46039f"
             ],
             [
              0.2222222222222222,
              "#7201a8"
             ],
             [
              0.3333333333333333,
              "#9c179e"
             ],
             [
              0.4444444444444444,
              "#bd3786"
             ],
             [
              0.5555555555555556,
              "#d8576b"
             ],
             [
              0.6666666666666666,
              "#ed7953"
             ],
             [
              0.7777777777777778,
              "#fb9f3a"
             ],
             [
              0.8888888888888888,
              "#fdca26"
             ],
             [
              1,
              "#f0f921"
             ]
            ],
            "type": "contour"
           }
          ],
          "contourcarpet": [
           {
            "colorbar": {
             "outlinewidth": 0,
             "ticks": ""
            },
            "type": "contourcarpet"
           }
          ],
          "heatmap": [
           {
            "colorbar": {
             "outlinewidth": 0,
             "ticks": ""
            },
            "colorscale": [
             [
              0,
              "#0d0887"
             ],
             [
              0.1111111111111111,
              "#46039f"
             ],
             [
              0.2222222222222222,
              "#7201a8"
             ],
             [
              0.3333333333333333,
              "#9c179e"
             ],
             [
              0.4444444444444444,
              "#bd3786"
             ],
             [
              0.5555555555555556,
              "#d8576b"
             ],
             [
              0.6666666666666666,
              "#ed7953"
             ],
             [
              0.7777777777777778,
              "#fb9f3a"
             ],
             [
              0.8888888888888888,
              "#fdca26"
             ],
             [
              1,
              "#f0f921"
             ]
            ],
            "type": "heatmap"
           }
          ],
          "heatmapgl": [
           {
            "colorbar": {
             "outlinewidth": 0,
             "ticks": ""
            },
            "colorscale": [
             [
              0,
              "#0d0887"
             ],
             [
              0.1111111111111111,
              "#46039f"
             ],
             [
              0.2222222222222222,
              "#7201a8"
             ],
             [
              0.3333333333333333,
              "#9c179e"
             ],
             [
              0.4444444444444444,
              "#bd3786"
             ],
             [
              0.5555555555555556,
              "#d8576b"
             ],
             [
              0.6666666666666666,
              "#ed7953"
             ],
             [
              0.7777777777777778,
              "#fb9f3a"
             ],
             [
              0.8888888888888888,
              "#fdca26"
             ],
             [
              1,
              "#f0f921"
             ]
            ],
            "type": "heatmapgl"
           }
          ],
          "histogram": [
           {
            "marker": {
             "pattern": {
              "fillmode": "overlay",
              "size": 10,
              "solidity": 0.2
             }
            },
            "type": "histogram"
           }
          ],
          "histogram2d": [
           {
            "colorbar": {
             "outlinewidth": 0,
             "ticks": ""
            },
            "colorscale": [
             [
              0,
              "#0d0887"
             ],
             [
              0.1111111111111111,
              "#46039f"
             ],
             [
              0.2222222222222222,
              "#7201a8"
             ],
             [
              0.3333333333333333,
              "#9c179e"
             ],
             [
              0.4444444444444444,
              "#bd3786"
             ],
             [
              0.5555555555555556,
              "#d8576b"
             ],
             [
              0.6666666666666666,
              "#ed7953"
             ],
             [
              0.7777777777777778,
              "#fb9f3a"
             ],
             [
              0.8888888888888888,
              "#fdca26"
             ],
             [
              1,
              "#f0f921"
             ]
            ],
            "type": "histogram2d"
           }
          ],
          "histogram2dcontour": [
           {
            "colorbar": {
             "outlinewidth": 0,
             "ticks": ""
            },
            "colorscale": [
             [
              0,
              "#0d0887"
             ],
             [
              0.1111111111111111,
              "#46039f"
             ],
             [
              0.2222222222222222,
              "#7201a8"
             ],
             [
              0.3333333333333333,
              "#9c179e"
             ],
             [
              0.4444444444444444,
              "#bd3786"
             ],
             [
              0.5555555555555556,
              "#d8576b"
             ],
             [
              0.6666666666666666,
              "#ed7953"
             ],
             [
              0.7777777777777778,
              "#fb9f3a"
             ],
             [
              0.8888888888888888,
              "#fdca26"
             ],
             [
              1,
              "#f0f921"
             ]
            ],
            "type": "histogram2dcontour"
           }
          ],
          "mesh3d": [
           {
            "colorbar": {
             "outlinewidth": 0,
             "ticks": ""
            },
            "type": "mesh3d"
           }
          ],
          "parcoords": [
           {
            "line": {
             "colorbar": {
              "outlinewidth": 0,
              "ticks": ""
             }
            },
            "type": "parcoords"
           }
          ],
          "pie": [
           {
            "automargin": true,
            "type": "pie"
           }
          ],
          "scatter": [
           {
            "fillpattern": {
             "fillmode": "overlay",
             "size": 10,
             "solidity": 0.2
            },
            "type": "scatter"
           }
          ],
          "scatter3d": [
           {
            "line": {
             "colorbar": {
              "outlinewidth": 0,
              "ticks": ""
             }
            },
            "marker": {
             "colorbar": {
              "outlinewidth": 0,
              "ticks": ""
             }
            },
            "type": "scatter3d"
           }
          ],
          "scattercarpet": [
           {
            "marker": {
             "colorbar": {
              "outlinewidth": 0,
              "ticks": ""
             }
            },
            "type": "scattercarpet"
           }
          ],
          "scattergeo": [
           {
            "marker": {
             "colorbar": {
              "outlinewidth": 0,
              "ticks": ""
             }
            },
            "type": "scattergeo"
           }
          ],
          "scattergl": [
           {
            "marker": {
             "colorbar": {
              "outlinewidth": 0,
              "ticks": ""
             }
            },
            "type": "scattergl"
           }
          ],
          "scattermapbox": [
           {
            "marker": {
             "colorbar": {
              "outlinewidth": 0,
              "ticks": ""
             }
            },
            "type": "scattermapbox"
           }
          ],
          "scatterpolar": [
           {
            "marker": {
             "colorbar": {
              "outlinewidth": 0,
              "ticks": ""
             }
            },
            "type": "scatterpolar"
           }
          ],
          "scatterpolargl": [
           {
            "marker": {
             "colorbar": {
              "outlinewidth": 0,
              "ticks": ""
             }
            },
            "type": "scatterpolargl"
           }
          ],
          "scatterternary": [
           {
            "marker": {
             "colorbar": {
              "outlinewidth": 0,
              "ticks": ""
             }
            },
            "type": "scatterternary"
           }
          ],
          "surface": [
           {
            "colorbar": {
             "outlinewidth": 0,
             "ticks": ""
            },
            "colorscale": [
             [
              0,
              "#0d0887"
             ],
             [
              0.1111111111111111,
              "#46039f"
             ],
             [
              0.2222222222222222,
              "#7201a8"
             ],
             [
              0.3333333333333333,
              "#9c179e"
             ],
             [
              0.4444444444444444,
              "#bd3786"
             ],
             [
              0.5555555555555556,
              "#d8576b"
             ],
             [
              0.6666666666666666,
              "#ed7953"
             ],
             [
              0.7777777777777778,
              "#fb9f3a"
             ],
             [
              0.8888888888888888,
              "#fdca26"
             ],
             [
              1,
              "#f0f921"
             ]
            ],
            "type": "surface"
           }
          ],
          "table": [
           {
            "cells": {
             "fill": {
              "color": "#EBF0F8"
             },
             "line": {
              "color": "white"
             }
            },
            "header": {
             "fill": {
              "color": "#C8D4E3"
             },
             "line": {
              "color": "white"
             }
            },
            "type": "table"
           }
          ]
         },
         "layout": {
          "annotationdefaults": {
           "arrowcolor": "#2a3f5f",
           "arrowhead": 0,
           "arrowwidth": 1
          },
          "autotypenumbers": "strict",
          "coloraxis": {
           "colorbar": {
            "outlinewidth": 0,
            "ticks": ""
           }
          },
          "colorscale": {
           "diverging": [
            [
             0,
             "#8e0152"
            ],
            [
             0.1,
             "#c51b7d"
            ],
            [
             0.2,
             "#de77ae"
            ],
            [
             0.3,
             "#f1b6da"
            ],
            [
             0.4,
             "#fde0ef"
            ],
            [
             0.5,
             "#f7f7f7"
            ],
            [
             0.6,
             "#e6f5d0"
            ],
            [
             0.7,
             "#b8e186"
            ],
            [
             0.8,
             "#7fbc41"
            ],
            [
             0.9,
             "#4d9221"
            ],
            [
             1,
             "#276419"
            ]
           ],
           "sequential": [
            [
             0,
             "#0d0887"
            ],
            [
             0.1111111111111111,
             "#46039f"
            ],
            [
             0.2222222222222222,
             "#7201a8"
            ],
            [
             0.3333333333333333,
             "#9c179e"
            ],
            [
             0.4444444444444444,
             "#bd3786"
            ],
            [
             0.5555555555555556,
             "#d8576b"
            ],
            [
             0.6666666666666666,
             "#ed7953"
            ],
            [
             0.7777777777777778,
             "#fb9f3a"
            ],
            [
             0.8888888888888888,
             "#fdca26"
            ],
            [
             1,
             "#f0f921"
            ]
           ],
           "sequentialminus": [
            [
             0,
             "#0d0887"
            ],
            [
             0.1111111111111111,
             "#46039f"
            ],
            [
             0.2222222222222222,
             "#7201a8"
            ],
            [
             0.3333333333333333,
             "#9c179e"
            ],
            [
             0.4444444444444444,
             "#bd3786"
            ],
            [
             0.5555555555555556,
             "#d8576b"
            ],
            [
             0.6666666666666666,
             "#ed7953"
            ],
            [
             0.7777777777777778,
             "#fb9f3a"
            ],
            [
             0.8888888888888888,
             "#fdca26"
            ],
            [
             1,
             "#f0f921"
            ]
           ]
          },
          "colorway": [
           "#636efa",
           "#EF553B",
           "#00cc96",
           "#ab63fa",
           "#FFA15A",
           "#19d3f3",
           "#FF6692",
           "#B6E880",
           "#FF97FF",
           "#FECB52"
          ],
          "font": {
           "color": "#2a3f5f"
          },
          "geo": {
           "bgcolor": "white",
           "lakecolor": "white",
           "landcolor": "#E5ECF6",
           "showlakes": true,
           "showland": true,
           "subunitcolor": "white"
          },
          "hoverlabel": {
           "align": "left"
          },
          "hovermode": "closest",
          "mapbox": {
           "style": "light"
          },
          "paper_bgcolor": "white",
          "plot_bgcolor": "#E5ECF6",
          "polar": {
           "angularaxis": {
            "gridcolor": "white",
            "linecolor": "white",
            "ticks": ""
           },
           "bgcolor": "#E5ECF6",
           "radialaxis": {
            "gridcolor": "white",
            "linecolor": "white",
            "ticks": ""
           }
          },
          "scene": {
           "xaxis": {
            "backgroundcolor": "#E5ECF6",
            "gridcolor": "white",
            "gridwidth": 2,
            "linecolor": "white",
            "showbackground": true,
            "ticks": "",
            "zerolinecolor": "white"
           },
           "yaxis": {
            "backgroundcolor": "#E5ECF6",
            "gridcolor": "white",
            "gridwidth": 2,
            "linecolor": "white",
            "showbackground": true,
            "ticks": "",
            "zerolinecolor": "white"
           },
           "zaxis": {
            "backgroundcolor": "#E5ECF6",
            "gridcolor": "white",
            "gridwidth": 2,
            "linecolor": "white",
            "showbackground": true,
            "ticks": "",
            "zerolinecolor": "white"
           }
          },
          "shapedefaults": {
           "line": {
            "color": "#2a3f5f"
           }
          },
          "ternary": {
           "aaxis": {
            "gridcolor": "white",
            "linecolor": "white",
            "ticks": ""
           },
           "baxis": {
            "gridcolor": "white",
            "linecolor": "white",
            "ticks": ""
           },
           "bgcolor": "#E5ECF6",
           "caxis": {
            "gridcolor": "white",
            "linecolor": "white",
            "ticks": ""
           }
          },
          "title": {
           "x": 0.05
          },
          "xaxis": {
           "automargin": true,
           "gridcolor": "white",
           "linecolor": "white",
           "ticks": "",
           "title": {
            "standoff": 15
           },
           "zerolinecolor": "white",
           "zerolinewidth": 2
          },
          "yaxis": {
           "automargin": true,
           "gridcolor": "white",
           "linecolor": "white",
           "ticks": "",
           "title": {
            "standoff": 15
           },
           "zerolinecolor": "white",
           "zerolinewidth": 2
          }
         }
        },
        "width": 1200,
        "xaxis": {
         "anchor": "y",
         "autorange": true,
         "domain": [
          0,
          1
         ],
         "range": [
          "2022-08-01",
          "2022-11-16"
         ],
         "title": {
          "text": "Incident Date"
         },
         "type": "date"
        },
        "yaxis": {
         "anchor": "x",
         "autorange": true,
         "domain": [
          0,
          1
         ],
         "range": [
          134.94444444444446,
          416.05555555555554
         ],
         "title": {
          "text": "value"
         },
         "type": "linear"
        }
       }
      },
      "image/png": "[encoded data removed]",
      "text/html": [
       "<div>                            <div id=\"d3e61a6d-30e2-4b54-88e1-612c26ac2fff\" class=\"plotly-graph-div\" style=\"height:800px; width:1200px;\"></div>            <script type=\"text/javascript\">                require([\"plotly\"], function(Plotly) {                    window.PLOTLYENV=window.PLOTLYENV || {};                                    if (document.getElementById(\"d3e61a6d-30e2-4b54-88e1-612c26ac2fff\")) {                    Plotly.newPlot(                        \"d3e61a6d-30e2-4b54-88e1-612c26ac2fff\",                        [{\"hovertemplate\":\"variable=actual_cases<br>Incident Date=%{x}<br>value=%{y}<extra></extra>\",\"legendgroup\":\"actual_cases\",\"line\":{\"color\":\"#636efa\",\"dash\":\"solid\"},\"marker\":{\"symbol\":\"circle\"},\"mode\":\"lines\",\"name\":\"actual_cases\",\"orientation\":\"v\",\"showlegend\":true,\"x\":[\"2022-08-01T00:00:00\",\"2022-08-02T00:00:00\",\"2022-08-03T00:00:00\",\"2022-08-04T00:00:00\",\"2022-08-05T00:00:00\",\"2022-08-06T00:00:00\",\"2022-08-07T00:00:00\",\"2022-08-08T00:00:00\",\"2022-08-09T00:00:00\",\"2022-08-10T00:00:00\",\"2022-08-11T00:00:00\",\"2022-08-12T00:00:00\",\"2022-08-13T00:00:00\",\"2022-08-14T00:00:00\",\"2022-08-15T00:00:00\",\"2022-08-16T00:00:00\",\"2022-08-17T00:00:00\",\"2022-08-18T00:00:00\",\"2022-08-19T00:00:00\",\"2022-08-20T00:00:00\",\"2022-08-21T00:00:00\",\"2022-08-22T00:00:00\",\"2022-08-23T00:00:00\",\"2022-08-24T00:00:00\",\"2022-08-25T00:00:00\",\"2022-08-26T00:00:00\",\"2022-08-27T00:00:00\",\"2022-08-28T00:00:00\",\"2022-08-29T00:00:00\",\"2022-08-30T00:00:00\",\"2022-08-31T00:00:00\",\"2022-09-01T00:00:00\",\"2022-09-02T00:00:00\",\"2022-09-03T00:00:00\",\"2022-09-04T00:00:00\",\"2022-09-05T00:00:00\",\"2022-09-06T00:00:00\",\"2022-09-07T00:00:00\",\"2022-09-08T00:00:00\",\"2022-09-09T00:00:00\",\"2022-09-10T00:00:00\",\"2022-09-11T00:00:00\",\"2022-09-12T00:00:00\",\"2022-09-13T00:00:00\",\"2022-09-14T00:00:00\",\"2022-09-15T00:00:00\",\"2022-09-16T00:00:00\",\"2022-09-17T00:00:00\",\"2022-09-18T00:00:00\",\"2022-09-19T00:00:00\",\"2022-09-20T00:00:00\",\"2022-09-21T00:00:00\",\"2022-09-22T00:00:00\",\"2022-09-23T00:00:00\",\"2022-09-24T00:00:00\",\"2022-09-25T00:00:00\",\"2022-09-26T00:00:00\",\"2022-09-27T00:00:00\",\"2022-09-28T00:00:00\",\"2022-09-29T00:00:00\",\"2022-09-30T00:00:00\",\"2022-10-01T00:00:00\",\"2022-10-02T00:00:00\",\"2022-10-03T00:00:00\",\"2022-10-04T00:00:00\",\"2022-10-05T00:00:00\",\"2022-10-06T00:00:00\",\"2022-10-07T00:00:00\",\"2022-10-08T00:00:00\",\"2022-10-09T00:00:00\",\"2022-10-10T00:00:00\",\"2022-10-11T00:00:00\",\"2022-10-12T00:00:00\",\"2022-10-13T00:00:00\",\"2022-10-14T00:00:00\",\"2022-10-15T00:00:00\",\"2022-10-16T00:00:00\",\"2022-10-17T00:00:00\",\"2022-10-18T00:00:00\",\"2022-10-19T00:00:00\",\"2022-10-20T00:00:00\",\"2022-10-21T00:00:00\",\"2022-10-22T00:00:00\",\"2022-10-23T00:00:00\",\"2022-10-24T00:00:00\",\"2022-10-25T00:00:00\",\"2022-10-26T00:00:00\",\"2022-10-27T00:00:00\",\"2022-10-28T00:00:00\",\"2022-10-29T00:00:00\",\"2022-10-30T00:00:00\",\"2022-10-31T00:00:00\",\"2022-11-01T00:00:00\",\"2022-11-02T00:00:00\",\"2022-11-03T00:00:00\",\"2022-11-04T00:00:00\",\"2022-11-05T00:00:00\",\"2022-11-06T00:00:00\",\"2022-11-07T00:00:00\",\"2022-11-08T00:00:00\",\"2022-11-09T00:00:00\",\"2022-11-10T00:00:00\",\"2022-11-11T00:00:00\",\"2022-11-12T00:00:00\",\"2022-11-13T00:00:00\",\"2022-11-14T00:00:00\",\"2022-11-15T00:00:00\",\"2022-11-16T00:00:00\"],\"xaxis\":\"x\",\"y\":[315.0,291.0,319.0,337.0,346.0,365.0,331.0,328.0,287.0,334.0,310.0,325.0,240.0,287.0,316.0,315.0,341.0,318.0,326.0,287.0,259.0,309.0,298.0,304.0,340.0,352.0,330.0,283.0,314.0,290.0,340.0,402.0,363.0,385.0,345.0,361.0,307.0,364.0,326.0,348.0,295.0,304.0,330.0,277.0,303.0,330.0,372.0,313.0,251.0,321.0,329.0,350.0,372.0,379.0,336.0,312.0,299.0,332.0,342.0,375.0,354.0,364.0,325.0,280.0,302.0,341.0,312.0,378.0,324.0,313.0,371.0,305.0,276.0,305.0,336.0,314.0,289.0,273.0,297.0,329.0,305.0,371.0,294.0,309.0,304.0,336.0,290.0,296.0,286.0,282.0,238.0,240.0,291.0,278.0,282.0,265.0,252.0,212.0,258.0,234.0,283.0,284.0,262.0,281.0,246.0,222.0,175.0,149.0],\"yaxis\":\"y\",\"type\":\"scatter\"},{\"hovertemplate\":\"variable=predicted_cases<br>Incident Date=%{x}<br>value=%{y}<extra></extra>\",\"legendgroup\":\"predicted_cases\",\"line\":{\"color\":\"#EF553B\",\"dash\":\"solid\"},\"marker\":{\"symbol\":\"circle\"},\"mode\":\"lines\",\"name\":\"predicted_cases\",\"orientation\":\"v\",\"showlegend\":true,\"x\":[\"2022-08-01T00:00:00\",\"2022-08-02T00:00:00\",\"2022-08-03T00:00:00\",\"2022-08-04T00:00:00\",\"2022-08-05T00:00:00\",\"2022-08-06T00:00:00\",\"2022-08-07T00:00:00\",\"2022-08-08T00:00:00\",\"2022-08-09T00:00:00\",\"2022-08-10T00:00:00\",\"2022-08-11T00:00:00\",\"2022-08-12T00:00:00\",\"2022-08-13T00:00:00\",\"2022-08-14T00:00:00\",\"2022-08-15T00:00:00\",\"2022-08-16T00:00:00\",\"2022-08-17T00:00:00\",\"2022-08-18T00:00:00\",\"2022-08-19T00:00:00\",\"2022-08-20T00:00:00\",\"2022-08-21T00:00:00\",\"2022-08-22T00:00:00\",\"2022-08-23T00:00:00\",\"2022-08-24T00:00:00\",\"2022-08-25T00:00:00\",\"2022-08-26T00:00:00\",\"2022-08-27T00:00:00\",\"2022-08-28T00:00:00\",\"2022-08-29T00:00:00\",\"2022-08-30T00:00:00\",\"2022-08-31T00:00:00\",\"2022-09-01T00:00:00\",\"2022-09-02T00:00:00\",\"2022-09-03T00:00:00\",\"2022-09-04T00:00:00\",\"2022-09-05T00:00:00\",\"2022-09-06T00:00:00\",\"2022-09-07T00:00:00\",\"2022-09-08T00:00:00\",\"2022-09-09T00:00:00\",\"2022-09-10T00:00:00\",\"2022-09-11T00:00:00\",\"2022-09-12T00:00:00\",\"2022-09-13T00:00:00\",\"2022-09-14T00:00:00\",\"2022-09-15T00:00:00\",\"2022-09-16T00:00:00\",\"2022-09-17T00:00:00\",\"2022-09-18T00:00:00\",\"2022-09-19T00:00:00\",\"2022-09-20T00:00:00\",\"2022-09-21T00:00:00\",\"2022-09-22T00:00:00\",\"2022-09-23T00:00:00\",\"2022-09-24T00:00:00\",\"2022-09-25T00:00:00\",\"2022-09-26T00:00:00\",\"2022-09-27T00:00:00\",\"2022-09-28T00:00:00\",\"2022-09-29T00:00:00\",\"2022-09-30T00:00:00\",\"2022-10-01T00:00:00\",\"2022-10-02T00:00:00\",\"2022-10-03T00:00:00\",\"2022-10-04T00:00:00\",\"2022-10-05T00:00:00\",\"2022-10-06T00:00:00\",\"2022-10-07T00:00:00\",\"2022-10-08T00:00:00\",\"2022-10-09T00:00:00\",\"2022-10-10T00:00:00\",\"2022-10-11T00:00:00\",\"2022-10-12T00:00:00\",\"2022-10-13T00:00:00\",\"2022-10-14T00:00:00\",\"2022-10-15T00:00:00\",\"2022-10-16T00:00:00\",\"2022-10-17T00:00:00\",\"2022-10-18T00:00:00\",\"2022-10-19T00:00:00\",\"2022-10-20T00:00:00\",\"2022-10-21T00:00:00\",\"2022-10-22T00:00:00\",\"2022-10-23T00:00:00\",\"2022-10-24T00:00:00\",\"2022-10-25T00:00:00\",\"2022-10-26T00:00:00\",\"2022-10-27T00:00:00\",\"2022-10-28T00:00:00\",\"2022-10-29T00:00:00\",\"2022-10-30T00:00:00\",\"2022-10-31T00:00:00\",\"2022-11-01T00:00:00\",\"2022-11-02T00:00:00\",\"2022-11-03T00:00:00\",\"2022-11-04T00:00:00\",\"2022-11-05T00:00:00\",\"2022-11-06T00:00:00\",\"2022-11-07T00:00:00\",\"2022-11-08T00:00:00\",\"2022-11-09T00:00:00\",\"2022-11-10T00:00:00\",\"2022-11-11T00:00:00\",\"2022-11-12T00:00:00\",\"2022-11-13T00:00:00\",\"2022-11-14T00:00:00\",\"2022-11-15T00:00:00\",\"2022-11-16T00:00:00\"],\"xaxis\":\"x\",\"y\":[311.8402266271958,311.3461291156177,318.42928012720677,309.5886163344844,334.70721596907845,311.1896952033536,295.83102046802696,320.61954064567874,319.73225644840335,328.4055285849874,321.27366684071524,344.1369612662392,316.74286085358483,286.87024113789766,305.0441163258493,301.6658525881884,313.41115723353715,305.83034093934174,331.44727736409135,305.5126145954312,288.47448416831287,308.28446622658333,305.41432139797087,314.4661315084074,303.7369123376793,330.0900803225488,306.9154053635708,289.6580409261395,313.1387463024945,311.16177876842556,320.1391602549801,314.16806913707114,344.67352305381746,320.8503432130052,305.22470604581815,331.7080258071064,332.0585472008609,342.191296794978,335.61560088959095,356.00111885499086,330.00491815103754,303.9476525386402,323.4266167464913,320.25175613441377,327.5642754804274,314.68116785204637,339.86331144583704,316.6740429356141,297.781634360112,315.5995249410674,312.94012750074484,326.87320581460403,321.86940210683554,350.4747911975499,326.9015668476158,308.35552001436895,334.1349192347915,329.5695828038037,339.98798005590754,331.20596916294267,357.4641856474591,330.81928099397044,312.03791203462595,334.74243352429147,329.1690672024772,335.9386789504472,326.8328750291396,347.5050391047739,324.0418712658132,301.43566312890346,322.5687242532324,327.0752067685188,336.70614345051274,322.889707133339,347.5744572286172,320.13928659653993,299.25036713010365,318.82017581637206,309.1789119094531,318.83579845318906,313.67942861107286,337.96701978638873,315.3289464285385,292.7879514165828,315.418476114643,314.2743791566707,326.61489848936964,315.2205748616401,338.73155031797234,307.05723074032204,284.7891121383874,300.7704420389721,291.9659168488605,297.910945575085,288.3860051063368,311.8294092085988,283.9804402678648,261.0793138134477,279.16232005650124,276.6213064950153,281.06142329125856,271.2311514861491,295.69928002852475,270.02435486964276,251.53640966326435,274.75154307875476,268.2855507352884,272.02178680421736],\"yaxis\":\"y\",\"type\":\"scatter\"}],                        {\"template\":{\"data\":{\"histogram2dcontour\":[{\"type\":\"histogram2dcontour\",\"colorbar\":{\"outlinewidth\":0,\"ticks\":\"\"},\"colorscale\":[[0.0,\"#0d0887\"],[0.1111111111111111,\"#46039f\"],[0.2222222222222222,\"#7201a8\"],[0.3333333333333333,\"#9c179e\"],[0.4444444444444444,\"#bd3786\"],[0.5555555555555556,\"#d8576b\"],[0.6666666666666666,\"#ed7953\"],[0.7777777777777778,\"#fb9f3a\"],[0.8888888888888888,\"#fdca26\"],[1.0,\"#f0f921\"]]}],\"choropleth\":[{\"type\":\"choropleth\",\"colorbar\":{\"outlinewidth\":0,\"ticks\":\"\"}}],\"histogram2d\":[{\"type\":\"histogram2d\",\"colorbar\":{\"outlinewidth\":0,\"ticks\":\"\"},\"colorscale\":[[0.0,\"#0d0887\"],[0.1111111111111111,\"#46039f\"],[0.2222222222222222,\"#7201a8\"],[0.3333333333333333,\"#9c179e\"],[0.4444444444444444,\"#bd3786\"],[0.5555555555555556,\"#d8576b\"],[0.6666666666666666,\"#ed7953\"],[0.7777777777777778,\"#fb9f3a\"],[0.8888888888888888,\"#fdca26\"],[1.0,\"#f0f921\"]]}],\"heatmap\":[{\"type\":\"heatmap\",\"colorbar\":{\"outlinewidth\":0,\"ticks\":\"\"},\"colorscale\":[[0.0,\"#0d0887\"],[0.1111111111111111,\"#46039f\"],[0.2222222222222222,\"#7201a8\"],[0.3333333333333333,\"#9c179e\"],[0.4444444444444444,\"#bd3786\"],[0.5555555555555556,\"#d8576b\"],[0.6666666666666666,\"#ed7953\"],[0.7777777777777778,\"#fb9f3a\"],[0.8888888888888888,\"#fdca26\"],[1.0,\"#f0f921\"]]}],\"heatmapgl\":[{\"type\":\"heatmapgl\",\"colorbar\":{\"outlinewidth\":0,\"ticks\":\"\"},\"colorscale\":[[0.0,\"#0d0887\"],[0.1111111111111111,\"#46039f\"],[0.2222222222222222,\"#7201a8\"],[0.3333333333333333,\"#9c179e\"],[0.4444444444444444,\"#bd3786\"],[0.5555555555555556,\"#d8576b\"],[0.6666666666666666,\"#ed7953\"],[0.7777777777777778,\"#fb9f3a\"],[0.8888888888888888,\"#fdca26\"],[1.0,\"#f0f921\"]]}],\"contourcarpet\":[{\"type\":\"contourcarpet\",\"colorbar\":{\"outlinewidth\":0,\"ticks\":\"\"}}],\"contour\":[{\"type\":\"contour\",\"colorbar\":{\"outlinewidth\":0,\"ticks\":\"\"},\"colorscale\":[[0.0,\"#0d0887\"],[0.1111111111111111,\"#46039f\"],[0.2222222222222222,\"#7201a8\"],[0.3333333333333333,\"#9c179e\"],[0.4444444444444444,\"#bd3786\"],[0.5555555555555556,\"#d8576b\"],[0.6666666666666666,\"#ed7953\"],[0.7777777777777778,\"#fb9f3a\"],[0.8888888888888888,\"#fdca26\"],[1.0,\"#f0f921\"]]}],\"surface\":[{\"type\":\"surface\",\"colorbar\":{\"outlinewidth\":0,\"ticks\":\"\"},\"colorscale\":[[0.0,\"#0d0887\"],[0.1111111111111111,\"#46039f\"],[0.2222222222222222,\"#7201a8\"],[0.3333333333333333,\"#9c179e\"],[0.4444444444444444,\"#bd3786\"],[0.5555555555555556,\"#d8576b\"],[0.6666666666666666,\"#ed7953\"],[0.7777777777777778,\"#fb9f3a\"],[0.8888888888888888,\"#fdca26\"],[1.0,\"#f0f921\"]]}],\"mesh3d\":[{\"type\":\"mesh3d\",\"colorbar\":{\"outlinewidth\":0,\"ticks\":\"\"}}],\"scatter\":[{\"fillpattern\":{\"fillmode\":\"overlay\",\"size\":10,\"solidity\":0.2},\"type\":\"scatter\"}],\"parcoords\":[{\"type\":\"parcoords\",\"line\":{\"colorbar\":{\"outlinewidth\":0,\"ticks\":\"\"}}}],\"scatterpolargl\":[{\"type\":\"scatterpolargl\",\"marker\":{\"colorbar\":{\"outlinewidth\":0,\"ticks\":\"\"}}}],\"bar\":[{\"error_x\":{\"color\":\"#2a3f5f\"},\"error_y\":{\"color\":\"#2a3f5f\"},\"marker\":{\"line\":{\"color\":\"#E5ECF6\",\"width\":0.5},\"pattern\":{\"fillmode\":\"overlay\",\"size\":10,\"solidity\":0.2}},\"type\":\"bar\"}],\"scattergeo\":[{\"type\":\"scattergeo\",\"marker\":{\"colorbar\":{\"outlinewidth\":0,\"ticks\":\"\"}}}],\"scatterpolar\":[{\"type\":\"scatterpolar\",\"marker\":{\"colorbar\":{\"outlinewidth\":0,\"ticks\":\"\"}}}],\"histogram\":[{\"marker\":{\"pattern\":{\"fillmode\":\"overlay\",\"size\":10,\"solidity\":0.2}},\"type\":\"histogram\"}],\"scattergl\":[{\"type\":\"scattergl\",\"marker\":{\"colorbar\":{\"outlinewidth\":0,\"ticks\":\"\"}}}],\"scatter3d\":[{\"type\":\"scatter3d\",\"line\":{\"colorbar\":{\"outlinewidth\":0,\"ticks\":\"\"}},\"marker\":{\"colorbar\":{\"outlinewidth\":0,\"ticks\":\"\"}}}],\"scattermapbox\":[{\"type\":\"scattermapbox\",\"marker\":{\"colorbar\":{\"outlinewidth\":0,\"ticks\":\"\"}}}],\"scatterternary\":[{\"type\":\"scatterternary\",\"marker\":{\"colorbar\":{\"outlinewidth\":0,\"ticks\":\"\"}}}],\"scattercarpet\":[{\"type\":\"scattercarpet\",\"marker\":{\"colorbar\":{\"outlinewidth\":0,\"ticks\":\"\"}}}],\"carpet\":[{\"aaxis\":{\"endlinecolor\":\"#2a3f5f\",\"gridcolor\":\"white\",\"linecolor\":\"white\",\"minorgridcolor\":\"white\",\"startlinecolor\":\"#2a3f5f\"},\"baxis\":{\"endlinecolor\":\"#2a3f5f\",\"gridcolor\":\"white\",\"linecolor\":\"white\",\"minorgridcolor\":\"white\",\"startlinecolor\":\"#2a3f5f\"},\"type\":\"carpet\"}],\"table\":[{\"cells\":{\"fill\":{\"color\":\"#EBF0F8\"},\"line\":{\"color\":\"white\"}},\"header\":{\"fill\":{\"color\":\"#C8D4E3\"},\"line\":{\"color\":\"white\"}},\"type\":\"table\"}],\"barpolar\":[{\"marker\":{\"line\":{\"color\":\"#E5ECF6\",\"width\":0.5},\"pattern\":{\"fillmode\":\"overlay\",\"size\":10,\"solidity\":0.2}},\"type\":\"barpolar\"}],\"pie\":[{\"automargin\":true,\"type\":\"pie\"}]},\"layout\":{\"autotypenumbers\":\"strict\",\"colorway\":[\"#636efa\",\"#EF553B\",\"#00cc96\",\"#ab63fa\",\"#FFA15A\",\"#19d3f3\",\"#FF6692\",\"#B6E880\",\"#FF97FF\",\"#FECB52\"],\"font\":{\"color\":\"#2a3f5f\"},\"hovermode\":\"closest\",\"hoverlabel\":{\"align\":\"left\"},\"paper_bgcolor\":\"white\",\"plot_bgcolor\":\"#E5ECF6\",\"polar\":{\"bgcolor\":\"#E5ECF6\",\"angularaxis\":{\"gridcolor\":\"white\",\"linecolor\":\"white\",\"ticks\":\"\"},\"radialaxis\":{\"gridcolor\":\"white\",\"linecolor\":\"white\",\"ticks\":\"\"}},\"ternary\":{\"bgcolor\":\"#E5ECF6\",\"aaxis\":{\"gridcolor\":\"white\",\"linecolor\":\"white\",\"ticks\":\"\"},\"baxis\":{\"gridcolor\":\"white\",\"linecolor\":\"white\",\"ticks\":\"\"},\"caxis\":{\"gridcolor\":\"white\",\"linecolor\":\"white\",\"ticks\":\"\"}},\"coloraxis\":{\"colorbar\":{\"outlinewidth\":0,\"ticks\":\"\"}},\"colorscale\":{\"sequential\":[[0.0,\"#0d0887\"],[0.1111111111111111,\"#46039f\"],[0.2222222222222222,\"#7201a8\"],[0.3333333333333333,\"#9c179e\"],[0.4444444444444444,\"#bd3786\"],[0.5555555555555556,\"#d8576b\"],[0.6666666666666666,\"#ed7953\"],[0.7777777777777778,\"#fb9f3a\"],[0.8888888888888888,\"#fdca26\"],[1.0,\"#f0f921\"]],\"sequentialminus\":[[0.0,\"#0d0887\"],[0.1111111111111111,\"#46039f\"],[0.2222222222222222,\"#7201a8\"],[0.3333333333333333,\"#9c179e\"],[0.4444444444444444,\"#bd3786\"],[0.5555555555555556,\"#d8576b\"],[0.6666666666666666,\"#ed7953\"],[0.7777777777777778,\"#fb9f3a\"],[0.8888888888888888,\"#fdca26\"],[1.0,\"#f0f921\"]],\"diverging\":[[0,\"#8e0152\"],[0.1,\"#c51b7d\"],[0.2,\"#de77ae\"],[0.3,\"#f1b6da\"],[0.4,\"#fde0ef\"],[0.5,\"#f7f7f7\"],[0.6,\"#e6f5d0\"],[0.7,\"#b8e186\"],[0.8,\"#7fbc41\"],[0.9,\"#4d9221\"],[1,\"#276419\"]]},\"xaxis\":{\"gridcolor\":\"white\",\"linecolor\":\"white\",\"ticks\":\"\",\"title\":{\"standoff\":15},\"zerolinecolor\":\"white\",\"automargin\":true,\"zerolinewidth\":2},\"yaxis\":{\"gridcolor\":\"white\",\"linecolor\":\"white\",\"ticks\":\"\",\"title\":{\"standoff\":15},\"zerolinecolor\":\"white\",\"automargin\":true,\"zerolinewidth\":2},\"scene\":{\"xaxis\":{\"backgroundcolor\":\"#E5ECF6\",\"gridcolor\":\"white\",\"linecolor\":\"white\",\"showbackground\":true,\"ticks\":\"\",\"zerolinecolor\":\"white\",\"gridwidth\":2},\"yaxis\":{\"backgroundcolor\":\"#E5ECF6\",\"gridcolor\":\"white\",\"linecolor\":\"white\",\"showbackground\":true,\"ticks\":\"\",\"zerolinecolor\":\"white\",\"gridwidth\":2},\"zaxis\":{\"backgroundcolor\":\"#E5ECF6\",\"gridcolor\":\"white\",\"linecolor\":\"white\",\"showbackground\":true,\"ticks\":\"\",\"zerolinecolor\":\"white\",\"gridwidth\":2}},\"shapedefaults\":{\"line\":{\"color\":\"#2a3f5f\"}},\"annotationdefaults\":{\"arrowcolor\":\"#2a3f5f\",\"arrowhead\":0,\"arrowwidth\":1},\"geo\":{\"bgcolor\":\"white\",\"landcolor\":\"#E5ECF6\",\"subunitcolor\":\"white\",\"showland\":true,\"showlakes\":true,\"lakecolor\":\"white\"},\"title\":{\"x\":0.05},\"mapbox\":{\"style\":\"light\"}}},\"xaxis\":{\"anchor\":\"y\",\"domain\":[0.0,1.0],\"title\":{\"text\":\"Incident Date\"}},\"yaxis\":{\"anchor\":\"x\",\"domain\":[0.0,1.0],\"title\":{\"text\":\"value\"}},\"legend\":{\"title\":{\"text\":\"variable\"},\"tracegroupgap\":0},\"margin\":{\"t\":60},\"height\":800,\"width\":1200},                        {\"responsive\": true}                    ).then(function(){\n",
       "                            \n",
       "var gd = document.getElementById('d3e61a6d-30e2-4b54-88e1-612c26ac2fff');\n",
       "var x = new MutationObserver(function (mutations, observer) {{\n",
       "        var display = window.getComputedStyle(gd).display;\n",
       "        if (!display || display === 'none') {{\n",
       "            console.log([gd, 'removed!']);\n",
       "            Plotly.purge(gd);\n",
       "            observer.disconnect();\n",
       "        }}\n",
       "}});\n",
       "\n",
       "// Listen for the removal of the full notebook cells\n",
       "var notebookContainer = gd.closest('#notebook-container');\n",
       "if (notebookContainer) {{\n",
       "    x.observe(notebookContainer, {childList: true});\n",
       "}}\n",
       "\n",
       "// Listen for the clearing of the current output cell\n",
       "var outputEl = gd.closest('.output');\n",
       "if (outputEl) {{\n",
       "    x.observe(outputEl, {childList: true});\n",
       "}}\n",
       "\n",
       "                        })                };                });            </script>        </div>"
      ]
     },
     "metadata": {},
     "output_type": "display_data"
    }
   ],
   "source": [
    "fig = px.line(df_compare, x=df_compare.index, y= ['actual_cases', 'predicted_cases'], width=1200, height=800)\n",
    "fig.show()"
   ]
  },
  {
   "cell_type": "code",
   "execution_count": null,
   "id": "18e5e5ff-f3d7-4527-b6f2-68cf10e9296a",
   "metadata": {},
   "outputs": [],
   "source": []
  },
  {
   "cell_type": "code",
   "execution_count": null,
   "id": "8014a278-225b-47c0-ac33-fb4f24e2ba96",
   "metadata": {},
   "outputs": [],
   "source": []
  }
 ],
 "metadata": {
  "kernelspec": {
   "display_name": "Python 3 (ipykernel)",
   "language": "python",
   "name": "python3"
  },
  "language_info": {
   "codemirror_mode": {
    "name": "ipython",
    "version": 3
   },
   "file_extension": ".py",
   "mimetype": "text/x-python",
   "name": "python",
   "nbconvert_exporter": "python",
   "pygments_lexer": "ipython3",
   "version": "3.9.12"
  }
 },
 "nbformat": 4,
 "nbformat_minor": 5
}
